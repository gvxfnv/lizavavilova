{
  "nbformat": 4,
  "nbformat_minor": 0,
  "metadata": {
    "colab": {
      "provenance": [],
      "authorship_tag": "ABX9TyPZ6Nl2Bd32TkcSDFSecQWX",
      "include_colab_link": true
    },
    "kernelspec": {
      "name": "python3",
      "display_name": "Python 3"
    },
    "language_info": {
      "name": "python"
    }
  },
  "cells": [
    {
      "cell_type": "markdown",
      "metadata": {
        "id": "view-in-github",
        "colab_type": "text"
      },
      "source": [
        "<a href=\"https://colab.research.google.com/github/gvxfnv/lizavavilova/blob/main/%D1%80%D0%B0%D0%B1%D0%BE%D1%82%D0%B04.ipynb\" target=\"_parent\"><img src=\"https://colab.research.google.com/assets/colab-badge.svg\" alt=\"Open In Colab\"/></a>"
      ]
    },
    {
      "cell_type": "markdown",
      "source": [
        "ВАРИАНТ 7"
      ],
      "metadata": {
        "id": "G9nSm9I-c9na"
      }
    },
    {
      "cell_type": "markdown",
      "source": [
        "1.В заданной строке после каждой буквы Ch вставить строку Str1."
      ],
      "metadata": {
        "id": "_6hByg1JDYCf"
      }
    },
    {
      "cell_type": "code",
      "source": [
        "def insert_after_char(str, ch, Str1):\n",
        "    result_string = \"\"\n",
        "    for char in str:\n",
        "        result_string += char\n",
        "        if char == ch:\n",
        "            result_string += Str1\n",
        "    return result_string\n",
        "str = \"hello world\"\n",
        "ch = 'o'\n",
        "Str1 = \"'0-0'\"\n",
        "new_string = insert_after_char(str, ch, Str1)\n",
        "print(\"Исходная строка:\")\n",
        "print(str)\n",
        "print(\"\\nНовая строка:\")\n",
        "print(new_string)"
      ],
      "metadata": {
        "colab": {
          "base_uri": "https://localhost:8080/"
        },
        "id": "T-VzcW6PDga8",
        "outputId": "b240dd0f-ab9b-47f7-b1e1-4308263e1ab8"
      },
      "execution_count": 5,
      "outputs": [
        {
          "output_type": "stream",
          "name": "stdout",
          "text": [
            "Исходная строка:\n",
            "hello world\n",
            "\n",
            "Новая строка:\n",
            "hello'0-0' wo'0-0'rld\n"
          ]
        }
      ]
    },
    {
      "cell_type": "markdown",
      "source": [
        "2.Дана символьная строка, содержащая текст, заканчивающийся точкой. Вывести на экран слова, содержащие три буквы."
      ],
      "metadata": {
        "id": "9VtMeYgqDgtu"
      }
    },
    {
      "cell_type": "code",
      "source": [
        "def extract_three_letter_words(input_string):\n",
        "    if input_string.endswith('.'):\n",
        "        input_string = input_string[:-1]\n",
        "    words = input_string.split()\n",
        "    three_letter_words = [word for word in words if len(word) == 3]\n",
        "    return three_letter_words\n",
        "input_string = \"Здрвствуйте, тут мы пишем текст. Это мы не знаем слов из трех букв.\"\n",
        "three_letter_words = extract_three_letter_words(input_string)\n",
        "print(\"Слова, содержащие три буквы:\")\n",
        "print(three_letter_words)"
      ],
      "metadata": {
        "colab": {
          "base_uri": "https://localhost:8080/"
        },
        "id": "K6ZsGzYLDhfP",
        "outputId": "d32f7162-42af-4dd4-daa8-44e4670d1f16"
      },
      "execution_count": null,
      "outputs": [
        {
          "output_type": "stream",
          "name": "stdout",
          "text": [
            "Слова, содержащие три буквы:\n",
            "['тут', 'Это']\n"
          ]
        }
      ]
    },
    {
      "cell_type": "markdown",
      "source": [
        "3.Даны две символьные строки А и В. Составьте программу, проверяющую, можно ли из букв, входящих в А, составить В. (буквы можно использовать не более одного раза и можно переставлять). Например, А = ИНТЕГРАЛ; В = АГЕНТ – составить можно; если В = ГРАФ – составить нельзя."
      ],
      "metadata": {
        "id": "Z8hIHiQZDhw9"
      }
    },
    {
      "cell_type": "code",
      "source": [
        "from collections import Counter\n",
        "def can_form_string(A, B):\n",
        "    count_A = Counter(A)\n",
        "    count_B = Counter(B)\n",
        "    for letter in count_B:\n",
        "        if count_B[letter] > count_A.get(letter, 0):\n",
        "            return False\n",
        "    return True\n",
        "A1 = \"ЗДРАВСТВУЙТЕ\"\n",
        "B1 = \"СТРАУ\"\n",
        "A2 = \"ЗДРАВСТВУЙТЕ\"\n",
        "B2 = \"СТРАУС\"\n",
        "print(f\"Можно ли составить '{B1}' из '{A1}': {can_form_string(A1, B1)}\")\n",
        "print(f\"Можно ли составить '{B2}' из '{A2}': {can_form_string(A2, B2)}\")"
      ],
      "metadata": {
        "colab": {
          "base_uri": "https://localhost:8080/"
        },
        "id": "gPoxAq8mDmgu",
        "outputId": "0e0c52eb-d2ec-4e75-b5ed-10a31fca92a1"
      },
      "execution_count": null,
      "outputs": [
        {
          "output_type": "stream",
          "name": "stdout",
          "text": [
            "Можно ли составить 'СТРАУ' из 'ЗДРАВСТВУЙТЕ': True\n",
            "Можно ли составить 'СТРАУС' из 'ЗДРАВСТВУЙТЕ': False\n"
          ]
        }
      ]
    },
    {
      "cell_type": "markdown",
      "source": [
        "1.Заполнить файл последовательного доступа N действительными числами, полученными с помощью датчика случайных чисел. Найти сумму минимального и максимального элементов этого файла."
      ],
      "metadata": {
        "id": "791BH56rDm34"
      }
    },
    {
      "cell_type": "code",
      "source": [
        "import random\n",
        "def fill_file_with_random_numbers(filename, N):\n",
        "    with open(filename, 'w') as file:\n",
        "        for _ in range(N):\n",
        "            number = random.uniform(0, 100)\n",
        "            file.write(f\"{number}\\n\")\n",
        "def find_sum_of_min_max(filename):\n",
        "    with open(filename, 'r') as file:\n",
        "        numbers = [float(line.strip()) for line in file]\n",
        "    if not numbers:\n",
        "        return None\n",
        "    min_number = min(numbers)\n",
        "    max_number = max(numbers)\n",
        "    return min_number + max_number\n",
        "N = 10\n",
        "filename = 'random_numbers.txt'\n",
        "fill_file_with_random_numbers(filename, N)\n",
        "result = find_sum_of_min_max(filename)\n",
        "if result is not None:\n",
        "    print(f\"Сумма минимального и максимального элементов: {result}\")\n",
        "else:\n",
        "    print(\"Файл пуст.\")"
      ],
      "metadata": {
        "colab": {
          "base_uri": "https://localhost:8080/"
        },
        "id": "uQ43OMFWDvB6",
        "outputId": "a1572ea5-bea0-4bbd-a3f2-4608c3c6be49"
      },
      "execution_count": null,
      "outputs": [
        {
          "output_type": "stream",
          "name": "stdout",
          "text": [
            "Сумма минимального и максимального элементов: 107.38708133085458\n"
          ]
        }
      ]
    },
    {
      "cell_type": "markdown",
      "source": [
        "2.Дан файл, содержащий различные даты. Каждая дата — это число месяц и год. Найти год с наименьшим номером."
      ],
      "metadata": {
        "id": "BY2i7fSGDvkM"
      }
    },
    {
      "cell_type": "code",
      "source": [
        "def find_min_year():\n",
        "    min_year = float('inf')\n",
        "    while True:\n",
        "        date_str = input(\"Введите дату (дд.мм.гггг) или нажмите Enter для завершения: \")\n",
        "        if not date_str:\n",
        "            break\n",
        "        try:\n",
        "            day, month, year = map(int, date_str.split('.'))\n",
        "            if year < min_year:\n",
        "                min_year = year\n",
        "        except ValueError:\n",
        "            print(f\"Некорректный формат даты: {date_str}. Пожалуйста, используйте формат дд.мм.гггг.\")\n",
        "            continue\n",
        "    return min_year if min_year != float('inf') else None\n",
        "min_year = find_min_year()\n",
        "if min_year is not None:\n",
        "    print(f\"Год с наименьшим номером: {min_year}\")\n",
        "else:\n",
        "    print(\"Не было введено ни одной корректной даты.\")"
      ],
      "metadata": {
        "colab": {
          "base_uri": "https://localhost:8080/"
        },
        "id": "CS4ea_OqDyUA",
        "outputId": "9bfc5d63-5923-4ecb-a4cf-7ed0c3546ee1"
      },
      "execution_count": null,
      "outputs": [
        {
          "output_type": "stream",
          "name": "stdout",
          "text": [
            "Введите дату (дд.мм.гггг) или нажмите Enter для завершения: 05.12.2005\n",
            "Введите дату (дд.мм.гггг) или нажмите Enter для завершения: 15.02.2006\n",
            "Введите дату (дд.мм.гггг) или нажмите Enter для завершения: 20.04.2012\n",
            "Введите дату (дд.мм.гггг) или нажмите Enter для завершения: 09.11.1990\n",
            "Введите дату (дд.мм.гггг) или нажмите Enter для завершения: \n",
            "Год с наименьшим номером: 1990\n"
          ]
        }
      ]
    },
    {
      "cell_type": "markdown",
      "source": [
        "3.Дан файл, содержащий произвольный текст. Проверить, правильно ли в нем расставлены круглые скобки (т.е. находится ли правее каждой открывающейся скобки закрывающаяся, и левее закрывающейся — открывающаяся)."
      ],
      "metadata": {
        "id": "Aw3ju2vcD1QZ"
      }
    },
    {
      "cell_type": "code",
      "source": [
        "def check_parentheses_balance(text):\n",
        "    stack = []\n",
        "    for char in text:\n",
        "        if char == '(':\n",
        "            stack.append(char)\n",
        "        elif char == ')':\n",
        "            if not stack:\n",
        "                return False\n",
        "            stack.pop()\n",
        "    return len(stack) == 0\n",
        "input_text = input(\"Введите текст для проверки: \")\n",
        "if check_parentheses_balance(input_text):\n",
        "    print(\"Круглые скобки расставлены правильно.\")\n",
        "else:\n",
        "    print(\"Круглые скобки расставлены неправильно.\")"
      ],
      "metadata": {
        "colab": {
          "base_uri": "https://localhost:8080/"
        },
        "id": "RkK3iyU7D3tI",
        "outputId": "b21467fb-fcf5-4df4-b94c-4c3027b614c1"
      },
      "execution_count": null,
      "outputs": [
        {
          "output_type": "stream",
          "name": "stdout",
          "text": [
            "Введите текст для проверки: В исследовании проведенном в 2023 году) были использованы новые методы анализа данных (например, машинное обучение и статистические модели.\n",
            "Круглые скобки расставлены неправильно.\n"
          ]
        }
      ]
    }
  ]
}