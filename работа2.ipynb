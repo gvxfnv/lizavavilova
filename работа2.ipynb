{
  "nbformat": 4,
  "nbformat_minor": 0,
  "metadata": {
    "colab": {
      "provenance": [],
      "authorship_tag": "ABX9TyOUyQT2XU0kLwjCbe5hDmHI",
      "include_colab_link": true
    },
    "kernelspec": {
      "name": "python3",
      "display_name": "Python 3"
    },
    "language_info": {
      "name": "python"
    }
  },
  "cells": [
    {
      "cell_type": "markdown",
      "metadata": {
        "id": "view-in-github",
        "colab_type": "text"
      },
      "source": [
        "<a href=\"https://colab.research.google.com/github/gvxfnv/lizavavilova/blob/main/%D1%80%D0%B0%D0%B1%D0%BE%D1%82%D0%B02.ipynb\" target=\"_parent\"><img src=\"https://colab.research.google.com/assets/colab-badge.svg\" alt=\"Open In Colab\"/></a>"
      ]
    },
    {
      "cell_type": "markdown",
      "source": [
        "Задача 7: Определите абстрактный класс Shape с абстрактным методом get_area(). Создайте подклассы Circle и Rectangle, которые реализуют метод get_area(), вычисляющий площадь фигуры."
      ],
      "metadata": {
        "id": "JKQWQoZyLOzE"
      }
    },
    {
      "cell_type": "code",
      "source": [
        "from abc import ABC, abstractmethod\n",
        "import math\n",
        "\n",
        "class Shape(ABC):\n",
        "    @abstractmethod\n",
        "    def get_area(self):\n",
        "        pass\n",
        "\n",
        "class Circle(Shape):\n",
        "    def __init__(self, radius):\n",
        "        self.radius = radius\n",
        "\n",
        "    def get_area(self):\n",
        "        return math.pi * (self.radius ** 2)\n",
        "\n",
        "class Rectangle(Shape):\n",
        "    def __init__(self, width, height):\n",
        "        self.width = width\n",
        "        self.height = height\n",
        "\n",
        "    def get_area(self):\n",
        "        return self.width * self.height\n",
        "\n",
        "if __name__ == \"__main__\":\n",
        "    circle = Circle(5)\n",
        "    rectangle = Rectangle(4, 6)\n",
        "\n",
        "    print(f\"Площадь круга: {circle.get_area():.2f}\")\n",
        "    print(f\"Площадь прямоугольника: {rectangle.get_area()}\")"
      ],
      "metadata": {
        "colab": {
          "base_uri": "https://localhost:8080/"
        },
        "id": "q4wpWYShLQ6c",
        "outputId": "dfc96ef8-5969-4d71-fe23-c826718f2fac"
      },
      "execution_count": null,
      "outputs": [
        {
          "output_type": "stream",
          "name": "stdout",
          "text": [
            "Площадь круга: 78.54\n",
            "Площадь прямоугольника: 24\n"
          ]
        }
      ]
    },
    {
      "cell_type": "markdown",
      "source": [
        "Задача 7. Определите класс Rectangle, который наследуется от класса Shape. Класс Rectangle должен реализовать метод getArea() для вычисления площади прямоугольника."
      ],
      "metadata": {
        "id": "jPoMO0VVQyMk"
      }
    },
    {
      "cell_type": "code",
      "source": [
        "class Shape:\n",
        "    def getArea(self):\n",
        "        raise NotImplementedError(\"Метод getArea() должен быть реализован в подклассе\")\n",
        "\n",
        "class Rectangle(Shape):\n",
        "    def __init__(self, width, height):\n",
        "        self.width = width\n",
        "        self.height = height\n",
        "\n",
        "    def getArea(self):\n",
        "        return self.width * self.height\n",
        "\n",
        "if __name__ == \"__main__\":\n",
        "    rect = Rectangle(5, 10)\n",
        "    area = rect.getArea()\n",
        "    print(f\"Площадь прямоугольника: {area}\")"
      ],
      "metadata": {
        "colab": {
          "base_uri": "https://localhost:8080/"
        },
        "id": "eSsZTbFyQzBc",
        "outputId": "6ca13a15-2e40-4e22-fde0-ebb64844527f"
      },
      "execution_count": null,
      "outputs": [
        {
          "output_type": "stream",
          "name": "stdout",
          "text": [
            "Площадь прямоугольника: 50\n"
          ]
        }
      ]
    },
    {
      "cell_type": "markdown",
      "source": [
        "Задача 7. Создать класс Rectangle, в котором поля width, height и color будут приватными. Реализовать методы для доступа и изменения этих полей, контролируя, чтобы ширина и высота были положительными."
      ],
      "metadata": {
        "id": "e0KqGq7eSZuy"
      }
    },
    {
      "cell_type": "code",
      "source": [
        "class Rectangle:\n",
        "    def __init__(self, width, height, color):\n",
        "        self.__width = None  # ширина\n",
        "        self.__height = None  # высота\n",
        "        self.__color = None  # цвета\n",
        "        self.set_width(width)\n",
        "        self.set_height(height)\n",
        "        self.set_color(color)\n",
        "\n",
        "    def get_width(self):\n",
        "        return self.__width\n",
        "\n",
        "    def set_width(self, width):\n",
        "        if width <= 0:\n",
        "            raise ValueError(\"Ширина должна быть положительной.\")\n",
        "        self.__width = width\n",
        "\n",
        "    def get_height(self):\n",
        "        return self.__height\n",
        "\n",
        "    def set_height(self, height):\n",
        "        if height <= 0:\n",
        "            raise ValueError(\"Высота должна быть положительной.\")\n",
        "        self.__height = height\n",
        "\n",
        "    def get_color(self):\n",
        "        return self.__color\n",
        "\n",
        "    def set_color(self, color):\n",
        "        self.__color = color\n",
        "\n",
        "    def get_area(self):\n",
        "        return self.__width * self.__height\n",
        "\n",
        "if __name__ == \"__main__\":\n",
        "    try:\n",
        "        rect = Rectangle(5, 10, \"red\")\n",
        "        print(f\"Ширина: {rect.get_width()}\")\n",
        "        print(f\"Высота: {rect.get_height()}\")\n",
        "        print(f\"Цвет: {rect.get_color()}\")\n",
        "        print(f\"Площадь: {rect.get_area()}\")\n",
        "\n",
        "        rect.set_width(-3)\n",
        "    except ValueError as e:\n",
        "        print(e)"
      ],
      "metadata": {
        "colab": {
          "base_uri": "https://localhost:8080/"
        },
        "id": "v3PcVwGaSavr",
        "outputId": "9d22c0df-b2b0-47af-a4ec-ee05b0fcd690"
      },
      "execution_count": null,
      "outputs": [
        {
          "output_type": "stream",
          "name": "stdout",
          "text": [
            "Ширина: 5\n",
            "Высота: 10\n",
            "Цвет: red\n",
            "Площадь: 50\n",
            "Ширина должна быть положительной.\n"
          ]
        }
      ]
    },
    {
      "cell_type": "markdown",
      "source": [
        "Задача 7. Дом и комната.  Разработайте класс `Дом`, который содержит список комнат. В классе `Дом` реализуйте метод для добавления комнат с указанием их типа, например, \"спальня\" или \"кухня\". Класс `Комната` должен иметь поле `тип комнаты` и метод для возвращения его описания. Комната не может существовать отдельно от дома."
      ],
      "metadata": {
        "id": "_9LPzvggU6F9"
      }
    },
    {
      "cell_type": "code",
      "source": [
        "class Komnata:\n",
        "    def __init__(self, tip):\n",
        "        self.tip = tip\n",
        "\n",
        "    def opisanie(self):\n",
        "        return f\"Комната типа: {self.tip}\"\n",
        "\n",
        "\n",
        "class Dom:\n",
        "    def __init__(self):\n",
        "        self.komnaty = []\n",
        "\n",
        "    def dobavit_komnatu(self, tip):\n",
        "        novaya_komnata = Komnata(tip)\n",
        "        self.komnaty.append(novaya_komnata)\n",
        "\n",
        "    def pokazat_komnaty(self):\n",
        "        for komnata in self.komnaty:\n",
        "            print(komnata.opisanie())\n",
        "\n",
        "dom = Dom()\n",
        "dom.dobavit_komnatu(\"спальня\")\n",
        "dom.dobavit_komnatu(\"кухня\")\n",
        "dom.dobavit_komnatu(\"гостиная\")\n",
        "\n",
        "print(\"Комнаты в доме:\")\n",
        "dom.pokazat_komnaty()\n"
      ],
      "metadata": {
        "id": "rXSzVCDbU65R",
        "outputId": "5880b206-24fb-4402-e919-f4fbd10b4332",
        "colab": {
          "base_uri": "https://localhost:8080/"
        }
      },
      "execution_count": 1,
      "outputs": [
        {
          "output_type": "stream",
          "name": "stdout",
          "text": [
            "Комнаты в доме:\n",
            "Комната типа: спальня\n",
            "Комната типа: кухня\n",
            "Комната типа: гостиная\n"
          ]
        }
      ]
    },
    {
      "cell_type": "markdown",
      "source": [
        "Задача 7. Курс и студент. Постройте класс `Курс`, который содержит студентов, посещающих этот курс. У класса `Студент` есть поля `имя` и `возраст`. Студенты могут существовать вне курса."
      ],
      "metadata": {
        "id": "2-asFuEVVT6G"
      }
    },
    {
      "cell_type": "code",
      "source": [
        "class Student:\n",
        "    def __init__(self, name, age):\n",
        "        self.name = name\n",
        "        self.age = age\n",
        "\n",
        "    def __str__(self):\n",
        "        return f\"Студент: {self.name}, Возраст: {self.age}\"\n",
        "\n",
        "\n",
        "class Kurs:\n",
        "    def __init__(self, name):\n",
        "        self.name = name\n",
        "        self.students = []\n",
        "\n",
        "    def dobavit_studenta(self, student):\n",
        "        if student not in self.students:\n",
        "            self.students.append(student)\n",
        "            print(f\"{student.name} добавлен в курс {self.name}.\")\n",
        "        else:\n",
        "            print(f\"{student.name} уже записан на курс {self.name}.\")\n",
        "\n",
        "    def pokazat_studentov(self):\n",
        "        print(f\"Студенты на курсе '{self.name}':\")\n",
        "        for student in self.students:\n",
        "            print(student)\n",
        "\n",
        "student1 = Student(\"Алексей\", 20)\n",
        "student2 = Student(\"Мария\", 22)\n",
        "student3 = Student(\"Иван\", 19)\n",
        "\n",
        "kurs1 = Kurs(\"Программирование на Python\")\n",
        "kurs1.dobavit_studenta(student1)\n",
        "kurs1.dobavit_studenta(student2)\n",
        "kurs1.dobavit_studenta(student1)\n",
        "kurs1.pokazat_studentov()\n",
        "print(\"\\nСтуденты вне курса:\")\n",
        "print(student1)\n",
        "print(student2)\n",
        "print(student3)\n"
      ],
      "metadata": {
        "id": "pZyHySMbVVTV",
        "outputId": "fae9d14e-6c4e-48f8-a665-6723f82d1917",
        "colab": {
          "base_uri": "https://localhost:8080/"
        }
      },
      "execution_count": 2,
      "outputs": [
        {
          "output_type": "stream",
          "name": "stdout",
          "text": [
            "Алексей добавлен в курс Программирование на Python.\n",
            "Мария добавлен в курс Программирование на Python.\n",
            "Алексей уже записан на курс Программирование на Python.\n",
            "Студенты на курсе 'Программирование на Python':\n",
            "Студент: Алексей, Возраст: 20\n",
            "Студент: Мария, Возраст: 22\n",
            "\n",
            "Студенты вне курса:\n",
            "Студент: Алексей, Возраст: 20\n",
            "Студент: Мария, Возраст: 22\n",
            "Студент: Иван, Возраст: 19\n"
          ]
        }
      ]
    },
    {
      "cell_type": "markdown",
      "source": [
        "Задача 7. Определить абстрактный класс Transport с абстрактным методом getFuelEfficiency(). Реализовать подклассы Car и Motorcycle, которые реализуют метод getFuelEfficiency()."
      ],
      "metadata": {
        "id": "1GN0jqJUVahI"
      }
    },
    {
      "cell_type": "code",
      "source": [
        "from abc import ABC, abstractmethod\n",
        "\n",
        "class Transport(ABC):\n",
        "    @abstractmethod\n",
        "    def getFuelEfficiency(self):\n",
        "        pass\n",
        "\n",
        "class Car(Transport):\n",
        "    def __init__(self, fuel_consumption, distance):\n",
        "        self.fuel_consumption = fuel_consumption\n",
        "        self.distance = distance\n",
        "\n",
        "    def getFuelEfficiency(self):\n",
        "        return self.distance / (self.fuel_consumption / 100)\n",
        "\n",
        "class Motorcycle(Transport):\n",
        "    def __init__(self, fuel_consumption, distance):\n",
        "        self.fuel_consumption = fuel_consumption\n",
        "        self.distance = distance\n",
        "\n",
        "    def getFuelEfficiency(self):\n",
        "        return self.distance / (self.fuel_consumption / 100)\n",
        "\n",
        "car = Car(fuel_consumption=8, distance=150)\n",
        "motorcycle = Motorcycle(fuel_consumption=4, distance=150)\n",
        "\n",
        "print(f\"Эффективность топлива автомобиля: {car.getFuelEfficiency():.2f} км/л\")\n",
        "print(f\"Эффективность топлива мотоцикла: {motorcycle.getFuelEfficiency():.2f} км/л\")\n"
      ],
      "metadata": {
        "id": "3k6HfYrqVbRr",
        "outputId": "28a6b5b3-c61b-49a6-8718-e986f72c47a3",
        "colab": {
          "base_uri": "https://localhost:8080/"
        }
      },
      "execution_count": 3,
      "outputs": [
        {
          "output_type": "stream",
          "name": "stdout",
          "text": [
            "Эффективность топлива автомобиля: 1875.00 км/л\n",
            "Эффективность топлива мотоцикла: 3750.00 км/л\n"
          ]
        }
      ]
    },
    {
      "cell_type": "markdown",
      "source": [
        "Задача 7. Создать интерфейс IShape, который содержит метод getArea(). Создать абстрактный класс Shape и конкретные реализации Circle и Rectangle, которые реализуют интерфейс IShape."
      ],
      "metadata": {
        "id": "aXBVWzbPVh28"
      }
    },
    {
      "cell_type": "code",
      "source": [
        "from abc import ABC, abstractmethod\n",
        "import math\n",
        "\n",
        "class IShape(ABC):\n",
        "    @abstractmethod\n",
        "    def getArea(self):\n",
        "        pass\n",
        "\n",
        "class Shape(IShape):\n",
        "    @abstractmethod\n",
        "    def getPerimeter(self):\n",
        "        pass\n",
        "\n",
        "class Circle(Shape):\n",
        "    def __init__(self, radius):\n",
        "        self.radius = radius\n",
        "\n",
        "    def getArea(self):\n",
        "        return math.pi * (self.radius ** 2)\n",
        "\n",
        "    def getPerimeter(self):\n",
        "        return 2 * math.pi * self.radius\n",
        "class Rectangle(Shape):\n",
        "    def __init__(self, width, height):\n",
        "        self.width = width\n",
        "        self.height = height\n",
        "\n",
        "    def getArea(self):\n",
        "        return self.width * self.height\n",
        "\n",
        "    def getPerimeter(self):\n",
        "        return 2 * (self.width + self.height)\n",
        "\n",
        "\n",
        "circle = Circle(radius=5)\n",
        "rectangle = Rectangle(width=4, height=6)\n",
        "\n",
        "print(f\"Площадь круга: {circle.getArea():.2f}\")\n",
        "print(f\"Периметр круга: {circle.getPerimeter():.2f}\")\n",
        "\n",
        "print(f\"Площадь прямоугольника: {rectangle.getArea():.2f}\")\n",
        "print(f\"Периметр прямоугольника: {rectangle.getPerimeter():.2f}\")"
      ],
      "metadata": {
        "id": "FFiuh1F3ViJe"
      },
      "execution_count": null,
      "outputs": []
    },
    {
      "cell_type": "markdown",
      "source": [
        "Задача 7. Определите метод draw() в классе Rectangle, который рисует прямоугольник. Создайте подклассы ColoredRectangle и DashedRectangle, которые будут переопределять этот метод для различной визуализации прямоугольников."
      ],
      "metadata": {
        "id": "M0ulX9itVrHi"
      }
    },
    {
      "cell_type": "code",
      "source": [
        "from abc import ABC, abstractmethod\n",
        "import math\n",
        "\n",
        "class IShape(ABC):\n",
        "    @abstractmethod\n",
        "    def getArea(self):\n",
        "        pass\n",
        "\n",
        "class Shape(IShape):\n",
        "    @abstractmethod\n",
        "    def getPerimeter(self):\n",
        "        pass\n",
        "\n",
        "    @abstractmethod\n",
        "    def draw(self):\n",
        "        pass\n",
        "\n",
        "class Rectangle(Shape):\n",
        "    def __init__(self, width, height):\n",
        "        self.width = width\n",
        "        self.height = height\n",
        "\n",
        "    def getArea(self):\n",
        "        return self.width * self.height\n",
        "\n",
        "    def getPerimeter(self):\n",
        "        return 2 * (self.width + self.height)\n",
        "\n",
        "    def draw(self):\n",
        "        print(f\"Рисуем прямоугольник: ширина = {self.width}, высота = {self.height}\")\n",
        "\n",
        "class ColoredRectangle(Rectangle):\n",
        "    def __init__(self, width, height, color):\n",
        "        super().__init__(width, height)\n",
        "        self.color = color\n",
        "\n",
        "    def draw(self):\n",
        "        print(f\"Рисуем цветной прямоугольник: ширина = {self.width}, высота = {self.height}, цвет = {self.color}\")\n",
        "\n",
        "class DashedRectangle(Rectangle):\n",
        "    def draw(self):\n",
        "        print(f\"Рисуем пунктирный прямоугольник: ширина = {self.width}, высота = {self.height}\")\n",
        "\n",
        "rectangle = Rectangle(width=4, height=6)\n",
        "colored_rectangle = ColoredRectangle(width=5, height=3, color='красный')\n",
        "dashed_rectangle = DashedRectangle(width=7, height=2)\n",
        "\n",
        "rectangle.draw()\n",
        "colored_rectangle.draw()\n",
        "dashed_rectangle.draw()\n"
      ],
      "metadata": {
        "id": "4C2wXa1BVrrK",
        "outputId": "3e478479-3438-41b0-b03c-d8083eb71835",
        "colab": {
          "base_uri": "https://localhost:8080/"
        }
      },
      "execution_count": 4,
      "outputs": [
        {
          "output_type": "stream",
          "name": "stdout",
          "text": [
            "Рисуем прямоугольник: ширина = 4, высота = 6\n",
            "Рисуем цветной прямоугольник: ширина = 5, высота = 3, цвет = красный\n",
            "Рисуем пунктирный прямоугольник: ширина = 7, высота = 2\n"
          ]
        }
      ]
    }
  ]
}