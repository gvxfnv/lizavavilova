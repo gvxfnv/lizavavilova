{
  "nbformat": 4,
  "nbformat_minor": 0,
  "metadata": {
    "colab": {
      "provenance": [],
      "authorship_tag": "ABX9TyNraKhdhO8b6iu/FcmdSX1/",
      "include_colab_link": true
    },
    "kernelspec": {
      "name": "python3",
      "display_name": "Python 3"
    },
    "language_info": {
      "name": "python"
    }
  },
  "cells": [
    {
      "cell_type": "markdown",
      "metadata": {
        "id": "view-in-github",
        "colab_type": "text"
      },
      "source": [
        "<a href=\"https://colab.research.google.com/github/gvxfnv/lizavavilova/blob/main/%D1%80%D0%B0%D0%B1%D0%BE%D1%82%D0%B02.ipynb\" target=\"_parent\"><img src=\"https://colab.research.google.com/assets/colab-badge.svg\" alt=\"Open In Colab\"/></a>"
      ]
    },
    {
      "cell_type": "markdown",
      "source": [
        "Задача 7: Определите абстрактный класс Shape с абстрактным методом get_area(). Создайте подклассы Circle и Rectangle, которые реализуют метод get_area(), вычисляющий площадь фигуры."
      ],
      "metadata": {
        "id": "JKQWQoZyLOzE"
      }
    },
    {
      "cell_type": "code",
      "source": [
        "from abc import ABC, abstractmethod\n",
        "import math\n",
        "\n",
        "class Shape(ABC):\n",
        "    @abstractmethod\n",
        "    def get_area(self):\n",
        "        pass\n",
        "\n",
        "class Circle(Shape):\n",
        "    def __init__(self, radius):\n",
        "        self.radius = radius\n",
        "\n",
        "    def get_area(self):\n",
        "        return math.pi * (self.radius ** 2)\n",
        "\n",
        "class Rectangle(Shape):\n",
        "    def __init__(self, width, height):\n",
        "        self.width = width\n",
        "        self.height = height\n",
        "\n",
        "    def get_area(self):\n",
        "        return self.width * self.height\n",
        "\n",
        "if __name__ == \"__main__\":\n",
        "    circle = Circle(5)\n",
        "    rectangle = Rectangle(4, 6)\n",
        "\n",
        "    print(f\"Площадь круга: {circle.get_area():.2f}\")\n",
        "    print(f\"Площадь прямоугольника: {rectangle.get_area()}\")"
      ],
      "metadata": {
        "colab": {
          "base_uri": "https://localhost:8080/"
        },
        "id": "q4wpWYShLQ6c",
        "outputId": "dfc96ef8-5969-4d71-fe23-c826718f2fac"
      },
      "execution_count": 6,
      "outputs": [
        {
          "output_type": "stream",
          "name": "stdout",
          "text": [
            "Площадь круга: 78.54\n",
            "Площадь прямоугольника: 24\n"
          ]
        }
      ]
    },
    {
      "cell_type": "markdown",
      "source": [
        "Задача 7. Определите класс Rectangle, который наследуется от класса Shape. Класс Rectangle должен реализовать метод getArea() для вычисления площади прямоугольника."
      ],
      "metadata": {
        "id": "jPoMO0VVQyMk"
      }
    },
    {
      "cell_type": "code",
      "source": [
        "class Shape:\n",
        "    def getArea(self):\n",
        "        raise NotImplementedError(\"Метод getArea() должен быть реализован в подклассе\")\n",
        "\n",
        "class Rectangle(Shape):\n",
        "    def __init__(self, width, height):\n",
        "        self.width = width\n",
        "        self.height = height\n",
        "\n",
        "    def getArea(self):\n",
        "        return self.width * self.height\n",
        "\n",
        "if __name__ == \"__main__\":\n",
        "    rect = Rectangle(5, 10)\n",
        "    area = rect.getArea()\n",
        "    print(f\"Площадь прямоугольника: {area}\")"
      ],
      "metadata": {
        "colab": {
          "base_uri": "https://localhost:8080/"
        },
        "id": "eSsZTbFyQzBc",
        "outputId": "6ca13a15-2e40-4e22-fde0-ebb64844527f"
      },
      "execution_count": 7,
      "outputs": [
        {
          "output_type": "stream",
          "name": "stdout",
          "text": [
            "Площадь прямоугольника: 50\n"
          ]
        }
      ]
    },
    {
      "cell_type": "markdown",
      "source": [
        "Задача 7. Создать класс Rectangle, в котором поля width, height и color будут приватными. Реализовать методы для доступа и изменения этих полей, контролируя, чтобы ширина и высота были положительными."
      ],
      "metadata": {
        "id": "e0KqGq7eSZuy"
      }
    },
    {
      "cell_type": "code",
      "source": [
        "class Rectangle:\n",
        "    def __init__(self, width, height, color):\n",
        "        self.__width = None  # ширина\n",
        "        self.__height = None  # высота\n",
        "        self.__color = None  # цвета\n",
        "        self.set_width(width)\n",
        "        self.set_height(height)\n",
        "        self.set_color(color)\n",
        "\n",
        "    def get_width(self):\n",
        "        return self.__width\n",
        "\n",
        "    def set_width(self, width):\n",
        "        if width <= 0:\n",
        "            raise ValueError(\"Ширина должна быть положительной.\")\n",
        "        self.__width = width\n",
        "\n",
        "    def get_height(self):\n",
        "        return self.__height\n",
        "\n",
        "    def set_height(self, height):\n",
        "        if height <= 0:\n",
        "            raise ValueError(\"Высота должна быть положительной.\")\n",
        "        self.__height = height\n",
        "\n",
        "    def get_color(self):\n",
        "        return self.__color\n",
        "\n",
        "    def set_color(self, color):\n",
        "        self.__color = color\n",
        "\n",
        "    def get_area(self):\n",
        "        return self.__width * self.__height\n",
        "\n",
        "if __name__ == \"__main__\":\n",
        "    try:\n",
        "        rect = Rectangle(5, 10, \"red\")\n",
        "        print(f\"Ширина: {rect.get_width()}\")\n",
        "        print(f\"Высота: {rect.get_height()}\")\n",
        "        print(f\"Цвет: {rect.get_color()}\")\n",
        "        print(f\"Площадь: {rect.get_area()}\")\n",
        "\n",
        "        rect.set_width(-3)\n",
        "    except ValueError as e:\n",
        "        print(e)"
      ],
      "metadata": {
        "colab": {
          "base_uri": "https://localhost:8080/"
        },
        "id": "v3PcVwGaSavr",
        "outputId": "9d22c0df-b2b0-47af-a4ec-ee05b0fcd690"
      },
      "execution_count": 8,
      "outputs": [
        {
          "output_type": "stream",
          "name": "stdout",
          "text": [
            "Ширина: 5\n",
            "Высота: 10\n",
            "Цвет: red\n",
            "Площадь: 50\n",
            "Ширина должна быть положительной.\n"
          ]
        }
      ]
    },
    {
      "cell_type": "markdown",
      "source": [
        "Задача 7. Дом и комната.  Разработайте класс `Дом`, который содержит список комнат. В классе `Дом` реализуйте метод для добавления комнат с указанием их типа, например, \"спальня\" или \"кухня\". Класс `Комната` должен иметь поле `тип комнаты` и метод для возвращения его описания. Комната не может существовать отдельно от дома."
      ],
      "metadata": {
        "id": "_9LPzvggU6F9"
      }
    },
    {
      "cell_type": "code",
      "source": [],
      "metadata": {
        "id": "rXSzVCDbU65R"
      },
      "execution_count": null,
      "outputs": []
    },
    {
      "cell_type": "markdown",
      "source": [
        "Задача 7. Курс и студент. Постройте класс `Курс`, который содержит студентов, посещающих этот курс. У класса `Студент` есть поля `имя` и `возраст`. Студенты могут существовать вне курса."
      ],
      "metadata": {
        "id": "2-asFuEVVT6G"
      }
    },
    {
      "cell_type": "code",
      "source": [],
      "metadata": {
        "id": "pZyHySMbVVTV"
      },
      "execution_count": null,
      "outputs": []
    },
    {
      "cell_type": "markdown",
      "source": [
        "Задача 7. Определить абстрактный класс Transport с абстрактным методом getFuelEfficiency(). Реализовать подклассы Car и Motorcycle, которые реализуют метод getFuelEfficiency()."
      ],
      "metadata": {
        "id": "1GN0jqJUVahI"
      }
    },
    {
      "cell_type": "code",
      "source": [],
      "metadata": {
        "id": "3k6HfYrqVbRr"
      },
      "execution_count": null,
      "outputs": []
    },
    {
      "cell_type": "markdown",
      "source": [
        "Задача 7. Создать интерфейс IShape, который содержит метод getArea(). Создать абстрактный класс Shape и конкретные реализации Circle и Rectangle, которые реализуют интерфейс IShape."
      ],
      "metadata": {
        "id": "aXBVWzbPVh28"
      }
    },
    {
      "cell_type": "code",
      "source": [],
      "metadata": {
        "id": "FFiuh1F3ViJe"
      },
      "execution_count": null,
      "outputs": []
    },
    {
      "cell_type": "markdown",
      "source": [
        "Задача 7. Определите метод draw() в классе Rectangle, который рисует прямоугольник. Создайте подклассы ColoredRectangle и DashedRectangle, которые будут переопределять этот метод для различной визуализации прямоугольников."
      ],
      "metadata": {
        "id": "M0ulX9itVrHi"
      }
    },
    {
      "cell_type": "code",
      "source": [],
      "metadata": {
        "id": "4C2wXa1BVrrK"
      },
      "execution_count": null,
      "outputs": []
    }
  ]
}