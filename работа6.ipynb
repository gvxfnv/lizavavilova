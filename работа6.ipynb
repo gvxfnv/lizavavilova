{
  "nbformat": 4,
  "nbformat_minor": 0,
  "metadata": {
    "colab": {
      "provenance": [],
      "authorship_tag": "ABX9TyMn0HksXCNt6s3rnhSQ4Xl5",
      "include_colab_link": true
    },
    "kernelspec": {
      "name": "python3",
      "display_name": "Python 3"
    },
    "language_info": {
      "name": "python"
    }
  },
  "cells": [
    {
      "cell_type": "markdown",
      "metadata": {
        "id": "view-in-github",
        "colab_type": "text"
      },
      "source": [
        "<a href=\"https://colab.research.google.com/github/gvxfnv/lizavavilova/blob/main/%D1%80%D0%B0%D0%B1%D0%BE%D1%82%D0%B06.ipynb\" target=\"_parent\"><img src=\"https://colab.research.google.com/assets/colab-badge.svg\" alt=\"Open In Colab\"/></a>"
      ]
    },
    {
      "cell_type": "code",
      "source": [
        "import sqlite3\n",
        "import os\n",
        "conn = sqlite3.connect('library.db')\n",
        "cursor = conn.cursor()\n",
        "create_table_query = '''\n",
        "CREATE TABLE IF NOT EXISTS books (\n",
        "    id INTEGER PRIMARY KEY AUTOINCREMENT,\n",
        "    title TEXT NOT NULL,\n",
        "    author TEXT NOT NULL,\n",
        "    year_published INTEGER,\n",
        "    genre TEXT\n",
        ");\n",
        "'''\n",
        "cursor.execute(create_table_query)\n",
        "books_data = [\n",
        "    (\"The Great Gatsby\", \"F. Scott Fitzgerald\", 1925, \"Fiction\"),\n",
        "    (\"1984\", \"George Orwell\", 1949, \"Dystopian\"),\n",
        "    (\"To Kill a Mockingbird\", \"Harper Lee\", 1960, \"Classic\"),\n",
        "]\n",
        "cursor.executemany('INSERT INTO books (title, author, year_published, genre) VALUES (?, ?, ?, ?);', books_data)\n",
        "cursor.execute('SELECT * FROM books;')\n",
        "all_books = cursor.fetchall()\n",
        "print(\"Все книги:\", all_books)\n",
        "cursor.execute('SELECT * FROM books WHERE year_published > 1950;')\n",
        "books_after_1950 = cursor.fetchall()\n",
        "print(\"Книги, опубликованные после 1950 года:\", books_after_1950)\n",
        "cursor.execute('SELECT * FROM books WHERE title LIKE \"T%\";')\n",
        "books_starting_with_T = cursor.fetchall()\n",
        "print(\"Книги, название которых начинается с 'T':\", books_starting_with_T)\n",
        "cursor.execute('SELECT * FROM books ORDER BY year_published ASC;')\n",
        "sorted_books = cursor.fetchall()\n",
        "print(\"Книги, отсортированные по году публикации:\", sorted_books)\n",
        "cursor.execute('SELECT * FROM books ORDER BY title LIMIT 2;')\n",
        "first_two_books = cursor.fetchall()\n",
        "print(\"Первые две книги, отсортированные по названию:\", first_two_books)\n",
        "cursor.execute('SELECT COUNT(*) FROM books;')\n",
        "total_books = cursor.fetchone()[0]\n",
        "print(\"Общее количество книг в таблице:\", total_books)\n",
        "cursor.execute('SELECT genre, COUNT(*) FROM books GROUP BY genre;')\n",
        "books_by_genre = cursor.fetchall()\n",
        "print(\"Количество книг для каждого жанра:\", books_by_genre)\n",
        "cursor.execute('UPDATE books SET year_published = 1948 WHERE title = \"1984\";')\n",
        "cursor.execute('DELETE FROM books WHERE title = \"The Great Gatsby\";')\n",
        "cursor.execute('CREATE INDEX IF NOT EXISTS idx_author ON books (author);')\n",
        "cursor.execute(\"SELECT name FROM sqlite_master WHERE type='index' AND name='idx_author';\")\n",
        "index_exists = cursor.fetchone() is not None\n",
        "print(\"Индекс для столбца author существует:\", index_exists)\n",
        "cursor.execute('''\n",
        "CREATE TABLE IF NOT EXISTS logs (\n",
        "    id INTEGER PRIMARY KEY AUTOINCREMENT,\n",
        "    action TEXT,\n",
        "    timestamp DATETIME DEFAULT CURRENT_TIMESTAMP\n",
        ");\n",
        "''')\n",
        "cursor.execute('''\n",
        "CREATE TRIGGER IF NOT EXISTS log_new_book AFTER INSERT ON books\n",
        "BEGIN\n",
        "    INSERT INTO logs (action) VALUES ('Добавлена новая книга: ' || NEW.title);\n",
        "END;\n",
        "''')\n",
        "cursor.execute('INSERT INTO books (title, author, year_published, genre) VALUES (?, ?, ?, ?);',\n",
        "               (\"Brave New World\", \"Aldous Huxley\", 1932, \"Dystopian\"))\n",
        "try:\n",
        "    conn.execute('BEGIN TRANSACTION;')\n",
        "    cursor.execute('INSERT INTO books (title, author, year_published, genre) VALUES (?, ?, ?, ?);',\n",
        "                   (\"Fahrenheit 451\", \"Ray Bradbury\", 1953, \"Dystopian\"))\n",
        "    cursor.execute('UPDATE books SET year_published = 1950 WHERE title = \"To Kill a Mockingbird\";')\n",
        "    conn.commit()\n",
        "except Exception as e:\n",
        "    print(\"Ошибка:\", e)\n",
        "    conn.rollback()\n",
        "def calculate_book_age(year_published):\n",
        "      current_year = 2023\n",
        "      return current_year - year_published\n",
        "conn.create_function(\"book_age\", 1, calculate_book_age)\n",
        "cursor.execute('SELECT title, book_age(year_published) AS age FROM books;')\n",
        "books_with_age = cursor.fetchall()\n",
        "print(\"Возраст книг:\", books_with_age)\n",
        "cursor.execute('CREATE VIEW IF NOT EXISTS modern_books AS SELECT * FROM books WHERE year_published > 1950;')\n",
        "cursor.execute('SELECT * FROM modern_books;')\n",
        "modern_books = cursor.fetchall()\n",
        "print(\"Современные книги:\", modern_books)\n",
        "cursor.execute('DROP TABLE IF EXISTS books;')\n",
        "cursor.execute(\"SELECT name FROM sqlite_master WHERE type='table' AND name='books';\")\n",
        "table_exists = cursor.fetchone() is not None\n",
        "print(\"Таблица books существует после удаления:\", table_exists)\n",
        "cursor.execute('CREATE TABLE IF NOT EXISTS books (id INTEGER PRIMARY KEY AUTOINCREMENT, title TEXT NOT NULL, author TEXT NOT NULL, year_published INTEGER, genre TEXT);') # Восстанавливаем таблицу для индексации\n",
        "cursor.executemany('INSERT INTO books (title, author, year_published, genre) VALUES (?, ?, ?, ?);', books_data) # Вставляем данные обратно\n",
        "cursor.execute('CREATE INDEX IF NOT EXISTS idx_author_year ON books (author, year_published);')\n",
        "if os.path.exists('library.db'):\n",
        "    os.remove('library.db')\n",
        "    print(\"База данных library.db удалена.\")\n",
        "else:\n",
        "    print(\"База данных library.db не найдена.\")\n",
        "conn.close()"
      ],
      "metadata": {
        "colab": {
          "base_uri": "https://localhost:8080/"
        },
        "id": "WOGGDuZ7Z161",
        "outputId": "4866d949-212d-4e3a-dd2a-872ececd929f"
      },
      "execution_count": 6,
      "outputs": [
        {
          "output_type": "stream",
          "name": "stdout",
          "text": [
            "Все книги: [(1, 'The Great Gatsby', 'F. Scott Fitzgerald', 1925, 'Fiction'), (2, '1984', 'George Orwell', 1949, 'Dystopian'), (3, 'To Kill a Mockingbird', 'Harper Lee', 1960, 'Classic')]\n",
            "Книги, опубликованные после 1950 года: [(3, 'To Kill a Mockingbird', 'Harper Lee', 1960, 'Classic')]\n",
            "Книги, название которых начинается с 'T': [(1, 'The Great Gatsby', 'F. Scott Fitzgerald', 1925, 'Fiction'), (3, 'To Kill a Mockingbird', 'Harper Lee', 1960, 'Classic')]\n",
            "Книги, отсортированные по году публикации: [(1, 'The Great Gatsby', 'F. Scott Fitzgerald', 1925, 'Fiction'), (2, '1984', 'George Orwell', 1949, 'Dystopian'), (3, 'To Kill a Mockingbird', 'Harper Lee', 1960, 'Classic')]\n",
            "Первые две книги, отсортированные по названию: [(2, '1984', 'George Orwell', 1949, 'Dystopian'), (1, 'The Great Gatsby', 'F. Scott Fitzgerald', 1925, 'Fiction')]\n",
            "Общее количество книг в таблице: 3\n",
            "Количество книг для каждого жанра: [('Classic', 1), ('Dystopian', 1), ('Fiction', 1)]\n",
            "Индекс для столбца author существует: True\n",
            "Ошибка: cannot start a transaction within a transaction\n",
            "Возраст книг: []\n",
            "Современные книги: []\n",
            "Таблица books существует после удаления: False\n",
            "База данных library.db удалена.\n"
          ]
        }
      ]
    }
  ]
}