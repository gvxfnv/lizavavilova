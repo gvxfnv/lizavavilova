{
  "nbformat": 4,
  "nbformat_minor": 0,
  "metadata": {
    "colab": {
      "provenance": [],
      "authorship_tag": "ABX9TyNyK/LSzdnxD24wp6H+8S+A",
      "include_colab_link": true
    },
    "kernelspec": {
      "name": "python3",
      "display_name": "Python 3"
    },
    "language_info": {
      "name": "python"
    }
  },
  "cells": [
    {
      "cell_type": "markdown",
      "metadata": {
        "id": "view-in-github",
        "colab_type": "text"
      },
      "source": [
        "<a href=\"https://colab.research.google.com/github/gvxfnv/lizavavilova/blob/main/%D1%80%D0%B0%D0%B1%D0%BE%D1%82%D0%B01.ipynb\" target=\"_parent\"><img src=\"https://colab.research.google.com/assets/colab-badge.svg\" alt=\"Open In Colab\"/></a>"
      ]
    },
    {
      "cell_type": "markdown",
      "source": [
        "![Снимок экрана 2025-03-17 210347.png](data:image/png;base64,iVBORw0KGgoAAAANSUhEUgAAAT4AAABRCAYAAABL7coLAAAAAXNSR0IArs4c6QAAAARnQU1BAACxjwv8YQUAAAAJcEhZcwAADsMAAA7DAcdvqGQAABHLSURBVHhe7Z0JWFRVFMcvGJKEuaUWVlq5JeaSlWRRaQvZYtlCkgZhGKmZmZVpIm1kFi1mZmWmKWGYllhmFpllliVIuWSooQYoZJaWS7l0e//DfTgMAwzLvIV3ft833/DOPGXeDPOfc+/Z/KSGYBiGcRD+6p5hGMYxsPAxDOM4WPgYhnEcLHwMwzgOFj6GYRwHCx/DMI6DhY9hGMfBwscwjONg4WMYxnGw8DEM4zhY+BimGmzcuFHMnTtXbNq0SVnsw3///Se++OILsWDBAvHHH38oq7PgWl2GqSIvvfSSyMjIEEeOHBHLly8X6enpIiIiQj1qbY4ePSqioqJEvXr1xIYNG8TevXvFmjVrRLNmzdQZzoCFj2GqAMQOonf11VfT8YQJE0ROTo5IS0ujY6uTnZ0tmjdvLk499VS6ll69eokRI0aIO+64Q53hDHipyzBV4LjjjisRPXD22WeLfv36qSPr0717dxI9gGs599xzRe/evenYSbDwMUw1yc/PFytXrhS33XabstgL7PO1b9++RAidBAsfw1SDLVu2iHHjxonXX39djB49Wlntw2effSbGjh0rxowZI5YsWaKszoH3+BimBqSmporY2Fjx+++/i4YNGyqrPUB0NyYmRhQWFpIQOgn2+BimBgwYMEA0adJEHD58WFnsg7+/v7jnnnvEv//+qyzOgYWPYWrAX3/9RZHRpk2bKou92LlzJ4m30+ClLsNUgZ9//pmCGUj/OOuss0RmZqYYPny4CAkJUWdYm2nTplHiMp4/PvpFRUXiwQcfpLw+J8HCxziav//+W6xatUr88MMPFLB46qmnKM8N7N+/Xzz33HNi165d4uWXXy4RB4jdnj17RJs2bUTbtm3JZgbYo0NkGdHZ1atXixdeeEHUr19fPSrEvHnzxIoVK+gajj/+eLIdPHhQfP/995TDh1QWLNMdCYSPYZyKJmoyKytLjh49Wvr5+clbb72V7Hl5eTI0NFQ2atRIaoInt27dSnYrsXDhQpmUlCRbt25Nz33lypXqkWIiIyPJPn36dGVhdFj4GEZD855kWFiYDAwMlLt375ZXXXWVzMnJkUePHiVxtDLa0pUETvNKlaWYwsJCeckll8h33nlHWRgdDm4wjIYmHKJ///7i0KFD4sYbb6TcPCT3IvJ50kknqbOsCZas4Mcff6R7nZYtW9JS3E6VJUbBwscwissvv5zuTz75ZKF5fPRzbdKqVSv6v729ffjhh+pfVgwCKyeccILYvn27shSDfT8IX3BwsLIwOhzcYBgFvD14d6GhoeLbb79V1toDQYWqfNzatWvndZoMhBLBFgRqAPIK4+LixJtvvikCAgLIxhyDhY9hFLNmzaJuK7/99hvdTjzxRPWI9enWrRtFnwsKCug4OTmZmg/06NGDjpnS8FKXYTTQkBMeWXx8PHl+vvD4fAmWs3oFBhonABa98mHhYxiNxx57jJoOXHrppXS8bNkyun/33XdFbm4u/WxlTj/9dGoqio7Qc+bMEffff796hPGEocKHzVckTuqgfTcy4RnGaLAHhlKtqVOnUoJvWFgYtWc6//zzRVBQkEhJSREzZ84kITnzzDPVv7IuSFxGd+VHHnmEkrDRa48pH0OED1nxt99+O6UHIFNeB00cEbmaOHGisjCMMWBZiCXhAw88QBUa+PsEgYGBom/fvlTKlZeXR3t+dgDlcw0aNBCJiYmWT7+xAj4Nbvzzzz+0hMCyAaF1gL0U9zKZpKQk2pjFLAOGMQr8LcLzQ76bK/hIQPgQKbULQ4cOFddee6247rrrlIWpCEOiuvv27SOxgyu+e/duj/WB4eHh4qabbhKjRo1SFoZhvAH7kPhcoVkC4x2GLHURccIUp4o09oknnqD9ibVr1yoLwzCewOcIy3OAJgRorsCiVzUMy+PDsgHLB09LXR1Epnr27Cnee+89ZWEYxp1bbrmFpqXde++94qeffhKvvfaa49pK1RRLCd/AgQNpSDPmfSLwYRfgpZaX8oBo2zXXXKOOfAe2EbZt2yaysrLE1q1bxbBhw0paocM7mD17NkX6hgwZQu2MfvnlF/Hll19SNLNz5850HkDbohdffFFcf/314pxzzlFWxkpcdtllJHjoo4eaYha9agDhM4KWLVtCYKUmfMpSlkmTJtE5aLVjJ7p06ULP2/2GjhlPP/20Osu3rFu3Tmqesrz55pvp98bHx5Mdr7f2JUI2f39/WVBQIBMSEmSvXr3IFhsbS+fpfPzxx2RHVw+GqatYyuN7//33hfbBpeWuXnNodZDnhXwwpOQg/0sHw1twjH3LikD6AeopveXCCy8U8+fPV0dlgTfXtWtX8v7weg8ePFg8/PDDVPOJVCLdi4OHiPcEe6+uuZSoWkCKBzp9YP+IYeoilhK+NWvWUJkNlod2GYCydOlS0bFjR9G6dWtlKRY9zXOiJWNlYFm6Y8cOdVQ5jRo1KrU09cRDDz0knn/+eREZGUkTwCIiItQjpUGVAr5g3F9rPKe33npLPPnkk8rCMHULSwnf5s2bS3qgQQzc86vsAERv8eLF1AYc12EG6enp1FsOibh4LuURFRVF7ckxXlBvtw6wdwQvsUWLFspyDPzfkyZNUkeVg/fa03N444036PcyjDuYadKhQwd15BssKXwA5W2I8toJK4gewOQs9H6DR4d5DOWBek7Mkli/fr3o1KkT2RYtWkTzJKKjo+nYHaROoJjfWzDrAfmZ7kBwuVyR8QQGIZ1xxhnqyDdYUvj8/PyoXAgfXruAaCoip6g+wfP3FiyJq9IJBH8Q2LerCIgK5qWicgaJrShl8gRED+L3ySefUONNeNkJCQm051iVa2AYu2GeW+IBzCgF6INmJ9Fbt26dmDx5cinRQ5ABQl8ZuGYIjrc3TOyvCOzXoUQQ6SwQvm+++UY9UpbGjRvTPb5k8P2H1Ajs67HoMXUeeHxGoKezbNu2TVnKgqEpOKdPnz7KYn3Wrl0rBw0aJDWRUZZiUlNT5erVq9WRcYwdO1ZqS0iZkZFBaSkTJkwg+wcffCD37dtHP+tonh6dk5ycTGk38+fPV48wTN3GEI8PXgjqdQE625YH9o8AUlrsADw9zGnAchKBAuxl4YZhNY8//rg477zz1Jm+A22+UN+M6Cw8TiyFsTF88cUX0xyGTz/9VHz99dcUqcWxK+joARCwgHdol9edYWqMEkCf8fbbb8v+/fuTJ4dbz549KUH50KFD6oxjYKZpcHCw5cf5AXiuzZs3p2uC16Rfn34bMWKEOtO3bNq0SQYEBNDs13HjxilrMZoI03MbPHiw1ARSWY+xZ88eevzKK6/0+H5YnczMTEoer1+/Pt27z5VlrMPhw4fp77Bx48aySZMmtDLx9DdpFD4XPswlxQW639w5cOAAiZ77h9fK4DpwffrN9fowp9UoULWRnZ2tjo7x559/Ss3bU0dlgfBhaDbu7cb+/ftlXFyczM/Pp+d/5513ymbNmsm9e/eqMxgrgaosVAXhs7F48WLZsGFD+corr6hHjcewPb7KwIvQvn17EkDG98DDg1hs375dWezF5s2bSwk29i/xxVmR0DPmAe/clZEjR9IKzywsEdVFzt6UKVOoQUF5qRdMzdHe75J7NIhFdw+75UrqYF4sqlh0kC+Isjw9H9Es8NqiHJApjfvgI7x3aPNvFqYLn/atTZOtUlNTSybCM7UP8gwxdxVfLghi9OnTp05N4UJdMdrHl5cj6mvQoeeGG26gaiMEkRDYevXVVymtiSkNvhz0iXamoT0J09i4caMcM2aM/PXXX5WF8RUpKSkUyOjatSul4NQlsHE+bNgw2vczAyyvNbGTrVq1kmFhYRT0wmuNW3R0tKH7vXZg9uzZcunSperIHEwVPvfcN8a37NixQ/1Ud4CoYOO8sLBQWYwFv7979+5y8uTJFOACBw8elHfddVeJ+H300UdkZ4q/JKyQL2rqUhcTrRjjOOWUU9RPdYcFCxaImJiYkoYWyKmsLmgxhpLKqoByQ2wd3HfffSX12dhvnDZtGrUHA6jhthKYv4vRrkaD1xdNcfV8UTS9xc0MLBHcYJiqgr0zzasSy5cvp04vKLVD3fGsWbPUGVUnLi5OaN6ZOvIO1KBD9NwJCAigLiMAPQ6txFdffUUty4wE3b5RP/7dd9/Re4UZO3gOmkeszjAWFj7GMqAWGQ0TcHMFVSUzZswoGVEK0HodEWm004II4obAhtHVJxg2rrf4d0f3Qrt06UL3rmCsJdr/o/ku5k67gtcBgZH8/Hw6xrXl5ORQ8wl3MjMzxcKFC9WRcaCpLd4nPC9XcF1oclFQUKAsxeC9Q7cg/b3SVpti0KBB5B2bQvGKl2HMZdmyZXL48OGU1Y9KjKysLLLn5ubKDh060F5Z27ZtyeYrwsPDqdKotkhMTJRBQUHU7t8dTRyk5hFSxQ2uS6+jTk9Pp+oGXK/mIck5c+bI3r17l+wXbtiwgc7T6dGjB9m15bSyVM6iRYtk586d1VHVKCoqoqokJIvj9yKo5MqSJUvIbvV6exY+xlJoSyL64MTExJAYoJwOEUDME1m/fr06yzfUpvAh0NGpUyc5fvx4ZfEM5p/geiFwmucn+/btK1etWiXT0tJKJZdry2k6b+rUqcpSDJphoAoCUXtvqYnw6eTl5cnAwMAy/w8KECB6bdq0URZrwsLHWA54QCEhIdRZxlMpnq+oTeFD5BIffm1JqCyegUcLQYuMjJRDhgwpt+RuxYoVdJ6nks4BAwaQEHlLbQgfQGpUgwYNKIrtirb8LTPEymoY1oiUYbxFW0oJzbOhFveYH1LbYF8KM0XcQRI9IrGhoaHKUgyqDDTBUUeVs2vXLuqOg2Rxb5LyMUoVnYnQO7G8agb0TMRcFwRgEMzRwV4njtGZxxOY++Le4h+/CwnfmMfiDhrSouOQN2jeuPj888+p84/rzBkMN0egqV27dspiPTi4wVgOzAoBvtr4RkkZNufdb7AjvcLdrrdU8wb8e7ROT0pK8roSCdeL3x0cHKwsZTnttNMoXcY1aACfBcJW0VAopI+4Xw+eY3mvQVUi0KgEAq7PCeINwbOy6BHw+BjGSmBfDJv+UVFRymIMtbHURceYKVOmqKPKwV4gZhhjGTtjxgxl9Qz28i666CJ1VLyc1jwudeQ9tbXU1fcn0XUF4FrQfAD3Voc9PsZSILEWnh5mr6CBKlIf7AK8PIxMQPMHb8GS++6776afkV9XEfi/sYwGWL6iuQdqrs1CH12gPydsT2B8gZmDtryFhY+xDBA5DEDCvh72mZDHlpubS49BFLQvavrZikD0kH+HrjfuYF60p8RqnI/9xoEDB1LXbCT56ngSQew1ouoCy1HMTcZcFTPR9/XQaCQjI4OW47jZARY+xlTguaSkpNA+2sSJE6n8DAPlkewKtOUcCQcEQltWkc1KQKxRQQLhO3LkCImR6w3XgYCF7pnhOtLS0mjIVGJionj00UfJjvPgwSEhGcnaeA3cQbI2vKvk5GQKIJiW/KsICQmheyQnZ2dn08gF21C84mUYc5g+fTrtEyFxed68ecoq5c6dO6mlvvbhlqNGjTKkw0l19vji4+Pp+Vd0u+KKK9TZUmreHdmQsrNlyxZllXLu3Llkb9q0KeXweSI2NlZqy8hq7eu5Ult7fHj++vXZbXQBp7MwpoISJ6SRdOvWraSoXwcRQnhGERERhnh78KbQSy8oKEhZKgceKyKkFYH/U98PQwQUpV79+vUjD04HH0OUr2H5WN6QqpEjR4qOHTuKoUOHKkv1QAkgXtcWLVooS/WAl47nitQY12uxAyx8DGMDkHuHLQFPe4hmgUAGmokiEGU3eI+PYSwOhshD9BISEpTFfJ599lna07Oj6AEWPoaxIDNnzqTEZAR2MDd5/Pjxol69eupR4ykqKhLR0dGUboTKGgheeHi4etR+8FKXYSwGKiuw/3bgwAFq3YT8uIqqOozgmWeeobI9tNpC7qFeXWNXWPgYxoJgGA+44IIL6N5sIMYIyiDtBtPs7A4LH8MwjoP3+BiGcRwsfAzDOA4WPoZhHAcLH8MwjoOFj2EYx8HCxzCM42DhYxjGcbDwMQzjMIT4HzhsL2HpqU7vAAAAAElFTkSuQmCC)"
      ],
      "metadata": {
        "id": "d0waX5TWP1RE"
      }
    },
    {
      "cell_type": "code",
      "source": [
        "x = int(input(\"введите х - \"));\n",
        "y = int(input(\"введите y - \"));\n",
        "z = x*y-((x**3 - y**3)/(x**2+2*x*y+y**2));\n",
        "print(\"z = \", z);"
      ],
      "metadata": {
        "colab": {
          "base_uri": "https://localhost:8080/"
        },
        "id": "7TkECFQMRzE4",
        "outputId": "6ef8a128-938e-4906-8e36-6e3af698a971"
      },
      "execution_count": 1,
      "outputs": [
        {
          "output_type": "stream",
          "name": "stdout",
          "text": [
            "введите х - 2\n",
            "введите y - 3\n",
            "z =  6.76\n"
          ]
        }
      ]
    },
    {
      "cell_type": "markdown",
      "source": [
        "![Снимок экрана 2025-03-17 211151.png](data:image/png;base64,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)"
      ],
      "metadata": {
        "id": "YmyBLx0PTcOh"
      }
    },
    {
      "cell_type": "code",
      "source": [
        "x = int(input(\"введите x - \"));\n",
        "import math;\n",
        "y = x**3*math.log1p(x)+math.log1p(4*math.sqrt(x)+5);\n",
        "print(\"y = \", y);"
      ],
      "metadata": {
        "colab": {
          "base_uri": "https://localhost:8080/"
        },
        "id": "RBQErQv2Tj-V",
        "outputId": "e3501df0-3da0-400c-abe7-7d58d017d7c7"
      },
      "execution_count": 5,
      "outputs": [
        {
          "output_type": "stream",
          "name": "stdout",
          "text": [
            "введите x - 4\n",
            "y =  105.64308372539767\n"
          ]
        }
      ]
    },
    {
      "cell_type": "markdown",
      "source": [
        "3) Вычислить высоты треугольника со сторонами a, b, c."
      ],
      "metadata": {
        "id": "Zldg2X1zWBzI"
      }
    },
    {
      "cell_type": "code",
      "source": [
        "a = int(input(\"введите a - \"));\n",
        "b = int(input(\"введите b - \"));\n",
        "c = int(input(\"введите c - \"));\n",
        "import math;\n",
        "p = (a + b + c) / 2;\n",
        "s = math.sqrt(p * (p - a) * (p - b) * (p - c));\n",
        "ha = 2 * s / a;\n",
        "hb = 2 * s / b;\n",
        "hc = 2 * s / c;\n",
        "print(ha,hb,hc);"
      ],
      "metadata": {
        "colab": {
          "base_uri": "https://localhost:8080/"
        },
        "id": "o7dh7BO7WD12",
        "outputId": "5af5d969-7ee1-4195-e5d6-5085f6948332"
      },
      "execution_count": 8,
      "outputs": [
        {
          "output_type": "stream",
          "name": "stdout",
          "text": [
            "введите a - 3\n",
            "введите b - 4\n",
            "введите c - 5\n",
            "4.0 3.0 2.4\n"
          ]
        }
      ]
    },
    {
      "cell_type": "markdown",
      "source": [
        "4) Дано двузначное число. Найти сумму и произведение его цифр."
      ],
      "metadata": {
        "id": "Dpp52htRX5OZ"
      }
    },
    {
      "cell_type": "code",
      "source": [
        "a = int(input(\"введите двузначное число - \"));\n",
        "c = (a//10)+(a%10);\n",
        "z = (a//10)*(a%10);\n",
        "print(\"сумма - \", c, \"\\nпроизведение - \", z );"
      ],
      "metadata": {
        "colab": {
          "base_uri": "https://localhost:8080/"
        },
        "id": "AnZE79oiX6U7",
        "outputId": "c51731d5-2d7e-40eb-cdd9-674628b031af"
      },
      "execution_count": 15,
      "outputs": [
        {
          "output_type": "stream",
          "name": "stdout",
          "text": [
            "введите двузначное число - 34\n",
            "сумма -  7 \n",
            "произведение -  12\n"
          ]
        }
      ]
    },
    {
      "cell_type": "markdown",
      "source": [
        "5)Даны координаты двух различных полей шахматной доски x1, y1,\n",
        "x2, y2 (целые числа, лежащие в диапазоне 1–8). Проверить истинность высказывания: «Король за один ход может перейти с одного поля на другое»."
      ],
      "metadata": {
        "id": "fyFfufKpZr0v"
      }
    },
    {
      "cell_type": "code",
      "source": [
        "x1 = int(input(\"введите х1 - \"));\n",
        "y1 = int(input(\"введите y1 - \"));\n",
        "x2 = int(input(\"введите x2 - \"));\n",
        "y2 = int(input(\"введите у2 - \"));\n",
        "import math;\n",
        "if (math.fabs(x1-x2)<=1) and (math.fabs(y1-y2)<=1):\n",
        "  print(\"король за один ход может перейти с одного поля на другое\");\n",
        "else:\n",
        "  print(\"король не умеет так ходить\");"
      ],
      "metadata": {
        "colab": {
          "base_uri": "https://localhost:8080/"
        },
        "id": "U3IyNBAAaNVC",
        "outputId": "41a2e559-96c1-4554-d784-06f16b4c7dfc"
      },
      "execution_count": 20,
      "outputs": [
        {
          "output_type": "stream",
          "name": "stdout",
          "text": [
            "введите х1 - 2\n",
            "введите y1 - 2\n",
            "введите x2 - 2\n",
            "введите у2 - 1\n",
            "король за один ход может перейти с одного поля на другое\n"
          ]
        }
      ]
    },
    {
      "cell_type": "markdown",
      "source": [
        "![Снимок экрана 2025-03-18 085217.png](data:image/png;base64,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)"
      ],
      "metadata": {
        "id": "MR0G2ducz3XX"
      }
    },
    {
      "cell_type": "code",
      "source": [
        "x = int(input(\"введите х - \"));\n",
        "if x<=1:\n",
        "  f=0;\n",
        "else:\n",
        "  f=1/(x+6);\n",
        "print(f);"
      ],
      "metadata": {
        "colab": {
          "base_uri": "https://localhost:8080/"
        },
        "id": "VFRk8fhVz9kG",
        "outputId": "eb12a9d4-dbf9-4dff-a76e-46c3bd39d276"
      },
      "execution_count": 3,
      "outputs": [
        {
          "output_type": "stream",
          "name": "stdout",
          "text": [
            "введите х - 4\n",
            "0.1\n"
          ]
        }
      ]
    },
    {
      "cell_type": "markdown",
      "source": [
        "2) Даны действительные числа x и y, не равные друг другу. Меньшее из этих чисел заменить их полусуммой, а большее – их удвоенным произведением."
      ],
      "metadata": {
        "id": "qWcwTjkn1yj8"
      }
    },
    {
      "cell_type": "code",
      "source": [
        "x=int(input(\"введите x - \"));\n",
        "y=int(input(\"введите y - \"));\n",
        "if x == y:\n",
        " print(\"нельзя так!\");\n",
        "else:\n",
        "  if x<y:\n",
        "    b = (y + x)/2;\n",
        "    c = 2*(y*x);\n",
        "  else:\n",
        "    c = (y + x)/2;\n",
        "    b = 2*(y*x);\n",
        "  print(\"итог:\", \"\\nx - \", b , \"\\nу - \", c);"
      ],
      "metadata": {
        "colab": {
          "base_uri": "https://localhost:8080/"
        },
        "id": "pdlO7WCS1zTZ",
        "outputId": "f8187d1a-e6f6-4528-acdf-6c225fba7efd"
      },
      "execution_count": 20,
      "outputs": [
        {
          "output_type": "stream",
          "name": "stdout",
          "text": [
            "введите x - 4\n",
            "введите y - 2\n",
            "итог: \n",
            "x -  16 \n",
            "у -  3.0\n"
          ]
        }
      ]
    },
    {
      "cell_type": "markdown",
      "source": [
        "3) Даны три точки А(x1, y1), В(x2, y2), С(x3, y3). Определить будут ли они расположены на одной прямой. Если нет, то вычислить угол АВС."
      ],
      "metadata": {
        "id": "yI0Hh1Hg5YW7"
      }
    },
    {
      "cell_type": "code",
      "source": [
        "print(\"точка А:\");\n",
        "x1=int(input(\"введите x1 - \"));\n",
        "y1=int(input(\"введите y1 - \"));\n",
        "print(\"точка B:\");\n",
        "x2=int(input(\"введите x2 - \"));\n",
        "y2=int(input(\"введите y2 - \"));\n",
        "print(\"точка C:\");\n",
        "x3=int(input(\"введите x3 - \"));\n",
        "y3=int(input(\"введите y3 - \"));\n",
        "if x1 == x2 == x3 == y1 == y2 == y3:\n",
        "  print(\"находятся на одной прямой!\");\n",
        "else:\n",
        ""
      ],
      "metadata": {
        "colab": {
          "base_uri": "https://localhost:8080/"
        },
        "id": "-wTYk-gj5Z_F",
        "outputId": "5e141b30-d310-49ee-8d9a-3213af872e61"
      },
      "execution_count": null,
      "outputs": [
        {
          "name": "stdout",
          "output_type": "stream",
          "text": [
            "точка А:\n",
            "введите x1 - 2\n",
            "введите y1 - 3\n",
            "точка B:\n",
            "введите x2 - 3\n",
            "введите y2 - 5\n",
            "точка C:\n",
            "введите x3 - 1\n",
            "введите y3 - 6\n"
          ]
        }
      ]
    },
    {
      "cell_type": "markdown",
      "source": [
        "4) Известны две скорости: одна в километрах в час, другая — в метрах в секунду. Какая из скоростей больше?"
      ],
      "metadata": {
        "id": "kehvRGXIBEyn"
      }
    },
    {
      "cell_type": "code",
      "source": [
        "x=float(input(\"введите километры в час - \"));\n",
        "y=float(input(\"введите метры в секунду - \"));\n",
        "y = y * 3.6;\n",
        "if x > y:\n",
        "  print(\"большая скорость -\", x, \"километров в час\");\n",
        "elif x < y:\n",
        "  y = y / 3.6;\n",
        "  print(\"большая скорость -\", y, \"метров в секунду\");\n",
        "else:\n",
        "  print(\"они равны\");"
      ],
      "metadata": {
        "colab": {
          "base_uri": "https://localhost:8080/"
        },
        "id": "ccDF9w8fNEG0",
        "outputId": "e354a6ad-5155-47af-b1e0-04665f5ca94b"
      },
      "execution_count": 32,
      "outputs": [
        {
          "output_type": "stream",
          "name": "stdout",
          "text": [
            "введите километры в час - 3.6\n",
            "введите метры в секунду - 1\n",
            "они равны\n"
          ]
        }
      ]
    },
    {
      "cell_type": "markdown",
      "source": [
        "5) Мастям игральных карт условно присвоены следующие порядковые номера:\n",
        "масти \"пики\" — 1, масти \"трефы\" — 2, масти \"бубны\" — 3, масти \"червы\" —4, а достоинству карт: \"валету\" — 11, \"даме\" — 12, \"королю\" — 13, \"тузу\" —14 (порядковые номера карт остальных достоинств соответствуют их названиям: \"шестерка\", \"девятка\" и т. п.). По заданным номеру масти m (1 m 4) и номеру достоинства карты k (6 k 14) определить полное название (масть и достоинство) соответствующей карты в виде \"Дама пик\", \"Шестерка\"\n"
      ],
      "metadata": {
        "id": "zNAmV5syPJ2B"
      }
    },
    {
      "cell_type": "code",
      "source": [],
      "metadata": {
        "id": "va2cIF4wPQRe"
      },
      "execution_count": null,
      "outputs": []
    }
  ]
}