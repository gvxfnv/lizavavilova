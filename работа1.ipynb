{
  "nbformat": 4,
  "nbformat_minor": 0,
  "metadata": {
    "colab": {
      "provenance": [],
      "authorship_tag": "ABX9TyNMpXDZSsXhF5VLpQY7cB7g",
      "include_colab_link": true
    },
    "kernelspec": {
      "name": "python3",
      "display_name": "Python 3"
    },
    "language_info": {
      "name": "python"
    }
  },
  "cells": [
    {
      "cell_type": "markdown",
      "metadata": {
        "id": "view-in-github",
        "colab_type": "text"
      },
      "source": [
        "<a href=\"https://colab.research.google.com/github/gvxfnv/lizavavilova/blob/main/%D1%80%D0%B0%D0%B1%D0%BE%D1%82%D0%B01.ipynb\" target=\"_parent\"><img src=\"https://colab.research.google.com/assets/colab-badge.svg\" alt=\"Open In Colab\"/></a>"
      ]
    },
    {
      "cell_type": "markdown",
      "source": [
        "![Снимок экрана 2025-03-17 210347.png](data:image/png;base64,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)"
      ],
      "metadata": {
        "id": "d0waX5TWP1RE"
      }
    },
    {
      "cell_type": "code",
      "source": [
        "x = int(input(\"введите х - \"));\n",
        "y = int(input(\"введите y - \"));\n",
        "z = x*y-((x**3 - y**3)/(x**2+2*x*y+y**2));\n",
        "print(\"z = \", z);"
      ],
      "metadata": {
        "colab": {
          "base_uri": "https://localhost:8080/"
        },
        "id": "7TkECFQMRzE4",
        "outputId": "6ef8a128-938e-4906-8e36-6e3af698a971"
      },
      "execution_count": null,
      "outputs": [
        {
          "output_type": "stream",
          "name": "stdout",
          "text": [
            "введите х - 2\n",
            "введите y - 3\n",
            "z =  6.76\n"
          ]
        }
      ]
    },
    {
      "cell_type": "markdown",
      "source": [
        "![Снимок экрана 2025-03-17 211151.png](data:image/png;base64,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)"
      ],
      "metadata": {
        "id": "YmyBLx0PTcOh"
      }
    },
    {
      "cell_type": "code",
      "source": [
        "x = int(input(\"введите x - \"));\n",
        "import math;\n",
        "y = x**3*math.log1p(x)+math.log1p(4*math.sqrt(x)+5);\n",
        "print(\"y = \", y);"
      ],
      "metadata": {
        "colab": {
          "base_uri": "https://localhost:8080/"
        },
        "id": "RBQErQv2Tj-V",
        "outputId": "e3501df0-3da0-400c-abe7-7d58d017d7c7"
      },
      "execution_count": null,
      "outputs": [
        {
          "output_type": "stream",
          "name": "stdout",
          "text": [
            "введите x - 4\n",
            "y =  105.64308372539767\n"
          ]
        }
      ]
    },
    {
      "cell_type": "markdown",
      "source": [
        "3) Вычислить высоты треугольника со сторонами a, b, c."
      ],
      "metadata": {
        "id": "Zldg2X1zWBzI"
      }
    },
    {
      "cell_type": "code",
      "source": [
        "a = int(input(\"введите a - \"));\n",
        "b = int(input(\"введите b - \"));\n",
        "c = int(input(\"введите c - \"));\n",
        "import math;\n",
        "p = (a + b + c) / 2;\n",
        "s = math.sqrt(p * (p - a) * (p - b) * (p - c));\n",
        "ha = 2 * s / a;\n",
        "hb = 2 * s / b;\n",
        "hc = 2 * s / c;\n",
        "print(ha,hb,hc);"
      ],
      "metadata": {
        "colab": {
          "base_uri": "https://localhost:8080/"
        },
        "id": "o7dh7BO7WD12",
        "outputId": "5af5d969-7ee1-4195-e5d6-5085f6948332"
      },
      "execution_count": null,
      "outputs": [
        {
          "output_type": "stream",
          "name": "stdout",
          "text": [
            "введите a - 3\n",
            "введите b - 4\n",
            "введите c - 5\n",
            "4.0 3.0 2.4\n"
          ]
        }
      ]
    },
    {
      "cell_type": "markdown",
      "source": [
        "4) Дано двузначное число. Найти сумму и произведение его цифр."
      ],
      "metadata": {
        "id": "Dpp52htRX5OZ"
      }
    },
    {
      "cell_type": "code",
      "source": [
        "a = int(input(\"введите двузначное число - \"));\n",
        "c = (a//10)+(a%10);\n",
        "z = (a//10)*(a%10);\n",
        "print(\"сумма - \", c, \"\\nпроизведение - \", z );"
      ],
      "metadata": {
        "colab": {
          "base_uri": "https://localhost:8080/"
        },
        "id": "AnZE79oiX6U7",
        "outputId": "c51731d5-2d7e-40eb-cdd9-674628b031af"
      },
      "execution_count": null,
      "outputs": [
        {
          "output_type": "stream",
          "name": "stdout",
          "text": [
            "введите двузначное число - 34\n",
            "сумма -  7 \n",
            "произведение -  12\n"
          ]
        }
      ]
    },
    {
      "cell_type": "markdown",
      "source": [
        "5)Даны координаты двух различных полей шахматной доски x1, y1,\n",
        "x2, y2 (целые числа, лежащие в диапазоне 1–8). Проверить истинность высказывания: «Король за один ход может перейти с одного поля на другое»."
      ],
      "metadata": {
        "id": "fyFfufKpZr0v"
      }
    },
    {
      "cell_type": "code",
      "source": [
        "x1 = int(input(\"введите х1 - \"));\n",
        "y1 = int(input(\"введите y1 - \"));\n",
        "x2 = int(input(\"введите x2 - \"));\n",
        "y2 = int(input(\"введите у2 - \"));\n",
        "import math;\n",
        "if (math.fabs(x1-x2)<=1) and (math.fabs(y1-y2)<=1):\n",
        "  print(\"король за один ход может перейти с одного поля на другое\");\n",
        "else:\n",
        "  print(\"король не умеет так ходить\");"
      ],
      "metadata": {
        "colab": {
          "base_uri": "https://localhost:8080/"
        },
        "id": "U3IyNBAAaNVC",
        "outputId": "41a2e559-96c1-4554-d784-06f16b4c7dfc"
      },
      "execution_count": null,
      "outputs": [
        {
          "output_type": "stream",
          "name": "stdout",
          "text": [
            "введите х1 - 2\n",
            "введите y1 - 2\n",
            "введите x2 - 2\n",
            "введите у2 - 1\n",
            "король за один ход может перейти с одного поля на другое\n"
          ]
        }
      ]
    },
    {
      "cell_type": "markdown",
      "source": [
        "![Снимок экрана 2025-03-18 085217.png](data:image/png;base64,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)"
      ],
      "metadata": {
        "id": "MR0G2ducz3XX"
      }
    },
    {
      "cell_type": "code",
      "source": [
        "x = int(input(\"введите х - \"));\n",
        "if x<=1:\n",
        "  f=0;\n",
        "else:\n",
        "  f=1/(x+6);\n",
        "print(f);"
      ],
      "metadata": {
        "colab": {
          "base_uri": "https://localhost:8080/"
        },
        "id": "VFRk8fhVz9kG",
        "outputId": "eb12a9d4-dbf9-4dff-a76e-46c3bd39d276"
      },
      "execution_count": null,
      "outputs": [
        {
          "output_type": "stream",
          "name": "stdout",
          "text": [
            "введите х - 4\n",
            "0.1\n"
          ]
        }
      ]
    },
    {
      "cell_type": "markdown",
      "source": [
        "2) Даны действительные числа x и y, не равные друг другу. Меньшее из этих чисел заменить их полусуммой, а большее – их удвоенным произведением."
      ],
      "metadata": {
        "id": "qWcwTjkn1yj8"
      }
    },
    {
      "cell_type": "code",
      "source": [
        "x=int(input(\"введите x - \"));\n",
        "y=int(input(\"введите y - \"));\n",
        "if x == y:\n",
        " print(\"нельзя так!\");\n",
        "else:\n",
        "  if x<y:\n",
        "    b = (y + x)/2;\n",
        "    c = 2*(y*x);\n",
        "  else:\n",
        "    c = (y + x)/2;\n",
        "    b = 2*(y*x);\n",
        "  print(\"итог:\", \"\\nx - \", b , \"\\nу - \", c);"
      ],
      "metadata": {
        "colab": {
          "base_uri": "https://localhost:8080/"
        },
        "id": "pdlO7WCS1zTZ",
        "outputId": "f8187d1a-e6f6-4528-acdf-6c225fba7efd"
      },
      "execution_count": null,
      "outputs": [
        {
          "output_type": "stream",
          "name": "stdout",
          "text": [
            "введите x - 4\n",
            "введите y - 2\n",
            "итог: \n",
            "x -  16 \n",
            "у -  3.0\n"
          ]
        }
      ]
    },
    {
      "cell_type": "markdown",
      "source": [
        "3) Даны три точки А(x1, y1), В(x2, y2), С(x3, y3). Определить будут ли они расположены на одной прямой. Если нет, то вычислить угол АВС."
      ],
      "metadata": {
        "id": "yI0Hh1Hg5YW7"
      }
    },
    {
      "cell_type": "code",
      "source": [
        "import math\n",
        "x1, y1 = map(float, input(\"Введите координаты точки A (x1, y1): \").split());\n",
        "x2, y2 = map(float, input(\"Введите координаты точки B (x2, y2): \").split());\n",
        "x3, y3 = map(float, input(\"Введите координаты точки C (x3, y3): \").split());\n",
        "area = x1 * (y2 - y3) + x2 * (y3 - y1) + x3 * (y1 - y2);\n",
        "if area == 0:\n",
        "    print(\"Точки расположены на одной прямой.\");\n",
        "else:\n",
        "    AB_x = x2 - x1;\n",
        "    AB_y = y2 - y1;\n",
        "    BC_x = x3 - x2;\n",
        "    BC_y = y3 - y2;\n",
        "    AB_len = math.sqrt(AB_x**2 + AB_y**2);\n",
        "    BC_len = math.sqrt(BC_x**2 + BC_y**2);\n",
        "    dot_pr = AB_x * BC_x + AB_y * BC_y;\n",
        "    cos_th = dot_pr / (AB_len * BC_len);\n",
        "    cos_th = max(-1.0, min(1.0, cos_th));\n",
        "    angle_rad = math.acos(cos_th);\n",
        "    angle_deg = math.degrees(angle_rad);\n",
        "    print(f\"Точки не расположены на одной прямой. \\nУгол ABC: {angle_deg:.2f} градусов.\");"
      ],
      "metadata": {
        "colab": {
          "base_uri": "https://localhost:8080/"
        },
        "id": "kSDWOM0SrFrA",
        "outputId": "8f8fcb0d-f7fb-489b-ec85-2da997479a9d"
      },
      "execution_count": 1,
      "outputs": [
        {
          "output_type": "stream",
          "name": "stdout",
          "text": [
            "Введите координаты точки A (x1, y1): 4 5\n",
            "Введите координаты точки B (x2, y2): 2 3\n",
            "Введите координаты точки C (x3, y3): 3 7\n",
            "Точки не расположены на одной прямой. \n",
            "Угол ABC: 149.04 градусов.\n"
          ]
        }
      ]
    },
    {
      "cell_type": "markdown",
      "source": [
        "4) Известны две скорости: одна в километрах в час, другая — в метрах в секунду. Какая из скоростей больше?"
      ],
      "metadata": {
        "id": "kehvRGXIBEyn"
      }
    },
    {
      "cell_type": "code",
      "source": [
        "x=float(input(\"введите километры в час - \"));\n",
        "y=float(input(\"введите метры в секунду - \"));\n",
        "y = y * 3.6;\n",
        "if x > y:\n",
        "  print(\"большая скорость -\", x, \"километров в час\");\n",
        "elif x < y:\n",
        "  y = y / 3.6;\n",
        "  print(\"большая скорость -\", y, \"метров в секунду\");\n",
        "else:\n",
        "  print(\"они равны\");"
      ],
      "metadata": {
        "colab": {
          "base_uri": "https://localhost:8080/"
        },
        "id": "ccDF9w8fNEG0",
        "outputId": "61ca011f-c2f6-4822-a773-bc8bb3be39b8"
      },
      "execution_count": 1,
      "outputs": [
        {
          "output_type": "stream",
          "name": "stdout",
          "text": [
            "введите километры в час - 3.6\n",
            "введите метры в секунду - 1\n",
            "они равны\n"
          ]
        }
      ]
    },
    {
      "cell_type": "markdown",
      "source": [
        "5) Мастям игральных карт условно присвоены следующие порядковые номера:\n",
        "масти \"пики\" — 1, масти \"трефы\" — 2, масти \"бубны\" — 3, масти \"червы\" —4, а достоинству карт: \"валету\" — 11, \"даме\" — 12, \"королю\" — 13, \"тузу\" —14 (порядковые номера карт остальных достоинств соответствуют их названиям: \"шестерка\", \"девятка\" и т. п.). По заданным номеру масти m (1 m 4) и номеру достоинства карты k (6 k 14) определить полное название (масть и достоинство) соответствующей карты в виде \"Дама пик\", \"Шестерка\"\n"
      ],
      "metadata": {
        "id": "zNAmV5syPJ2B"
      }
    },
    {
      "cell_type": "code",
      "source": [
        "mast=[\"пики\",\"трефы\",\"бубны\",\"червы\"];\n",
        "dostoinstvo=[\"шестерка\",\"семерка\",\"восьмерка\",\"девятка\",\"десятка\",\"валет\",\"дама\",\"король\",\"туз\"];\n",
        "m=int(input(\"введите масть - \"));\n",
        "k=int(input(\"введите достоинство - \"));\n",
        "print(dostoinstvo[k-6],mast[m-1]);"
      ],
      "metadata": {
        "id": "va2cIF4wPQRe",
        "colab": {
          "base_uri": "https://localhost:8080/"
        },
        "outputId": "2249854b-8094-480a-fbe6-108de27f9f02"
      },
      "execution_count": 9,
      "outputs": [
        {
          "output_type": "stream",
          "name": "stdout",
          "text": [
            "введите масть - 1\n",
            "введите достоинство - 14\n",
            "туз пики\n"
          ]
        }
      ]
    },
    {
      "cell_type": "markdown",
      "source": [
        "1)Около стены наклонно стоит палка длиной х метров. Один ее конец находится на расстоянии y метров от стены. Определить значение угла α между палкой и полом для значений x=k метров и y, изменяющегося от 2 до 3 метров с шагом h метров."
      ],
      "metadata": {
        "id": "prYwZVLW78M7"
      }
    },
    {
      "cell_type": "code",
      "source": [
        "import math\n",
        "x=float(input(\"длина палки - \"));\n",
        "y=float(input(\"расстояние от стены - \"));\n",
        "h=float(input(\"введите шаг - \"));\n",
        "\n",
        "Я НЕ ПОНИМАЮ !!!!!!!!!!\n"
      ],
      "metadata": {
        "id": "-8AOs27p8C6U"
      },
      "execution_count": null,
      "outputs": []
    },
    {
      "cell_type": "markdown",
      "source": [
        "![Снимок экрана 2025-03-18 142233.png](data:image/png;base64,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)"
      ],
      "metadata": {
        "id": "Fq7G3GgRZq6N"
      }
    },
    {
      "cell_type": "code",
      "source": [
        "import math\n",
        "N=int(input(\"ввести N - \"));\n",
        "s = 1;\n",
        "for N in range(1, N + 1):\n",
        "  sumc = 0;\n",
        "  sums = 0;\n",
        "  for n in range(1, N + 1):\n",
        "    sumc += math.cos(n);\n",
        "    sums += math.sin(n);\n",
        "  s *= sumc/sums;\n",
        "print(s);"
      ],
      "metadata": {
        "colab": {
          "base_uri": "https://localhost:8080/"
        },
        "id": "arQe6M6D_gvX",
        "outputId": "9525bd31-0e39-4096-ddcc-1f3323a30f68"
      },
      "execution_count": 21,
      "outputs": [
        {
          "output_type": "stream",
          "name": "stdout",
          "text": [
            "ввести N - 2\n",
            "0.04553389788686589\n"
          ]
        }
      ]
    },
    {
      "cell_type": "markdown",
      "source": [
        "![Снимок экрана 2025-03-18 162046.png](data:image/png;base64,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)"
      ],
      "metadata": {
        "id": "ugc4p8l3ahmw"
      }
    },
    {
      "cell_type": "code",
      "source": [
        "import math;\n",
        "a=1;\n",
        "n =1;\n",
        "s=0;\n",
        "while a > 0.001:\n",
        "  a = 1 / ((3*n-2)*(3*n+1));\n",
        "  s += a;\n",
        "  n+=1;\n",
        "print(\"сумма ряда =\", s);"
      ],
      "metadata": {
        "colab": {
          "base_uri": "https://localhost:8080/"
        },
        "id": "gCFCWqxbajx3",
        "outputId": "66872e57-78ad-42f8-df27-ffcf46633653"
      },
      "execution_count": 2,
      "outputs": [
        {
          "output_type": "stream",
          "name": "stdout",
          "text": [
            "сумма ряда = 0.32352941176470595\n"
          ]
        }
      ]
    },
    {
      "cell_type": "markdown",
      "source": [
        "4)Дано целое число N и набор из N положительных вещественных чисел. Вывести в том же порядке целые части всех чисел из данного набора (как вещественные числа с нулевой дробной частью), а также сумму всех целых частей."
      ],
      "metadata": {
        "id": "h2SYAr0ww2fl"
      }
    },
    {
      "cell_type": "code",
      "source": [
        "N=int(input(\"сколько чисел - \"))\n",
        "S=0\n",
        "for i in range(1,N+1):\n",
        "  a=float(input(\"->\"));\n",
        "  S=S+a;\n",
        "print(S);"
      ],
      "metadata": {
        "colab": {
          "base_uri": "https://localhost:8080/"
        },
        "id": "8wyqzCuTw3th",
        "outputId": "7d414085-190a-451d-b9d9-9db975b07d72"
      },
      "execution_count": 7,
      "outputs": [
        {
          "output_type": "stream",
          "name": "stdout",
          "text": [
            "сколько чисел - 4\n",
            "->2\n",
            "->3\n",
            "->4\n",
            "->5\n",
            "14.0\n"
          ]
        }
      ]
    },
    {
      "cell_type": "markdown",
      "source": [
        "1)Даны натуральные числа K и N. Составить процедуру (функцию) формирования массива A, элементами которого являются числа, сумма цифр которых равна K и которые не больше N."
      ],
      "metadata": {
        "id": "6SMlTZk-xKNg"
      }
    },
    {
      "cell_type": "code",
      "source": [],
      "metadata": {
        "id": "uUMzZR4OxLV0"
      },
      "execution_count": null,
      "outputs": []
    },
    {
      "cell_type": "markdown",
      "source": [
        "2)Составить функцию нахождения наименьшего общего кратного трех натуральных чисел."
      ],
      "metadata": {
        "id": "wHlIEXyGxNnx"
      }
    },
    {
      "cell_type": "code",
      "source": [],
      "metadata": {
        "id": "GSoKA3FHxYTW"
      },
      "execution_count": null,
      "outputs": []
    },
    {
      "cell_type": "markdown",
      "source": [
        "3.Описать рекурсивную функцию Root(f, b, ε), которая методом деления отрезка пополам  находит с точностью ε корень уравнения f(x) = 0 на отрезке [а, b] (считать, что ε > 0, а < b, f(a} • f(b) < 0 и f(x)- непрерывная и монотонная  на отрезке [а, b])."
      ],
      "metadata": {
        "id": "JJTA2-vpxcDN"
      }
    },
    {
      "cell_type": "code",
      "source": [],
      "metadata": {
        "id": "rxYww0-Ixdo6"
      },
      "execution_count": null,
      "outputs": []
    }
  ]
}