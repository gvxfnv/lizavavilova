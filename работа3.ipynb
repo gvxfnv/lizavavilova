{
  "nbformat": 4,
  "nbformat_minor": 0,
  "metadata": {
    "colab": {
      "provenance": [],
      "authorship_tag": "ABX9TyNZHwaTlf+6PfoG8gJU2Lh3",
      "include_colab_link": true
    },
    "kernelspec": {
      "name": "python3",
      "display_name": "Python 3"
    },
    "language_info": {
      "name": "python"
    }
  },
  "cells": [
    {
      "cell_type": "markdown",
      "metadata": {
        "id": "view-in-github",
        "colab_type": "text"
      },
      "source": [
        "<a href=\"https://colab.research.google.com/github/gvxfnv/lizavavilova/blob/main/%D1%80%D0%B0%D0%B1%D0%BE%D1%82%D0%B03.ipynb\" target=\"_parent\"><img src=\"https://colab.research.google.com/assets/colab-badge.svg\" alt=\"Open In Colab\"/></a>"
      ]
    },
    {
      "cell_type": "markdown",
      "source": [
        "DICTIONARY"
      ],
      "metadata": {
        "id": "Xi1-hV5qPr7A"
      }
    },
    {
      "cell_type": "markdown",
      "source": [
        "Максимальное значение: Напишите функцию, которая находит ключ с максимальным значением в словаре"
      ],
      "metadata": {
        "id": "fCbWD_qhLGFW"
      }
    },
    {
      "cell_type": "code",
      "source": [
        "def max_a (d):\n",
        "  if not d:\n",
        "    return None\n",
        "  max_key = max (d, key = d.get)\n",
        "  return max_key\n",
        "exemple_dict = {'a': 1, 'b': 3, 'c': 0}\n",
        "result = max_a(exemple_dict)\n",
        "print(f'ключ с максимальным значением: {result}')"
      ],
      "metadata": {
        "colab": {
          "base_uri": "https://localhost:8080/"
        },
        "id": "CtRWjaLlJyag",
        "outputId": "1c132ba7-cc84-4d8e-9e84-7d0500c7fb5d"
      },
      "execution_count": null,
      "outputs": [
        {
          "output_type": "stream",
          "name": "stdout",
          "text": [
            "ключ с максимальным значением: a\n"
          ]
        }
      ]
    },
    {
      "cell_type": "markdown",
      "source": [
        "Минимальное значение: Напишите функцию, которая находит ключ с минимальным значением в словаре."
      ],
      "metadata": {
        "id": "9PlN1fIOLYH_"
      }
    },
    {
      "cell_type": "code",
      "source": [
        "def min_a(d):\n",
        "  if not d:\n",
        "    return None\n",
        "  min_key = min(d, key = d.get)\n",
        "  return min_key\n",
        "  example_dict = {'a': 1, 'b': 5, 'c': 3}\n",
        "  result = min_a(example_dict)\n",
        "  print(f'ключ с минимальным значением: {result}')\n"
      ],
      "metadata": {
        "id": "hV3O5pBvLwOC"
      },
      "execution_count": null,
      "outputs": []
    },
    {
      "cell_type": "markdown",
      "source": [
        "Удаление ключей: Напишите функцию, которая принимает словарь и список ключей, и удаляет из словаря все указанные ключи."
      ],
      "metadata": {
        "id": "jHWnwgPiM6gG"
      }
    },
    {
      "cell_type": "code",
      "source": [
        "def remove_keys(d, keys):\n",
        "    for key in keys:\n",
        "        d.pop(key, None)\n",
        "    return d\n",
        "example_dict = {'a': 1, 'b': 2, 'c': 3, 'd': 4}\n",
        "keys_to_remove = ['b', 'd']\n",
        "\n",
        "result = remove_keys(example_dict, keys_to_remove)\n",
        "print(result)"
      ],
      "metadata": {
        "colab": {
          "base_uri": "https://localhost:8080/"
        },
        "id": "ZZ5FsXuqNPbN",
        "outputId": "b09f1b4f-61f9-4214-e42b-5f1b588ed574"
      },
      "execution_count": null,
      "outputs": [
        {
          "output_type": "stream",
          "name": "stdout",
          "text": [
            "{'a': 1, 'c': 3}\n"
          ]
        }
      ]
    },
    {
      "cell_type": "markdown",
      "source": [
        "Поиск ключей по значению: Напишите функцию, которая принимает словарь и значение, и возвращает список всех ключей, связанных с этим значением."
      ],
      "metadata": {
        "id": "e9L2sUaRNMuf"
      }
    },
    {
      "cell_type": "code",
      "source": [
        "def find_keys_by_value(d, target_value):\n",
        "    keys = [key for key, value in d.items() if value == target_value]\n",
        "    return keys\n",
        "example_dict = {'a': 4, 'b': 2, 'c': 1, 'd': 4}\n",
        "value_to_find = 4\n",
        "\n",
        "result = find_keys_by_value(example_dict, value_to_find)\n",
        "print(result)"
      ],
      "metadata": {
        "colab": {
          "base_uri": "https://localhost:8080/"
        },
        "id": "tHaeI0uZNQbt",
        "outputId": "31ca2304-88d4-4889-bd1c-6e0998161303"
      },
      "execution_count": null,
      "outputs": [
        {
          "output_type": "stream",
          "name": "stdout",
          "text": [
            "['a', 'd']\n"
          ]
        }
      ]
    },
    {
      "cell_type": "markdown",
      "source": [
        "Объединение значений: Напишите функцию, которая принимает два словаря и объединяет их значения в списки для каждого ключа."
      ],
      "metadata": {
        "id": "G3kJXbENNUu-"
      }
    },
    {
      "cell_type": "code",
      "source": [
        "def merge_dict_values(dict1, dict2):\n",
        "    \"\"\"Объединяет значения двух словарей в списки для каждого ключа.\"\"\"\n",
        "    merged_dict = {}\n",
        "    for key, value in dict1.items():\n",
        "        merged_dict[key] = [value]\n",
        "    for key, value in dict2.items():\n",
        "        if key in merged_dict:\n",
        "            merged_dict[key].append(value)\n",
        "        else:\n",
        "            merged_dict[key] = [value]\n",
        "\n",
        "    return merged_dict\n",
        "dict1 = {'a': 1, 'b': 2}\n",
        "dict2 = {'b': 3, 'c': 4}\n",
        "\n",
        "result = merge_dict_values(dict1, dict2)\n",
        "print(result)"
      ],
      "metadata": {
        "colab": {
          "base_uri": "https://localhost:8080/"
        },
        "id": "91_QS1yiNV3H",
        "outputId": "e2df01aa-8b6a-46ee-d706-78f91b104f36"
      },
      "execution_count": null,
      "outputs": [
        {
          "output_type": "stream",
          "name": "stdout",
          "text": [
            "{'a': [1], 'b': [2, 3], 'c': [4]}\n"
          ]
        }
      ]
    },
    {
      "cell_type": "markdown",
      "source": [
        "Сортировка по ключам: Напишите функцию, которая сортирует словарь по ключам и возвращает новый отсортированный словарь"
      ],
      "metadata": {
        "id": "4HeRp0HBNYoL"
      }
    },
    {
      "cell_type": "code",
      "source": [
        "def sort_dict_by_keys(input_dict):\n",
        "    sorted_dict = dict(sorted(input_dict.items()))\n",
        "    return sorted_dict\n",
        "\n",
        "example_dict = {'c': 3, 'a': 1, 'b': 2}\n",
        "sorted_example = sort_dict_by_keys(example_dict)\n",
        "print(sorted_example)"
      ],
      "metadata": {
        "colab": {
          "base_uri": "https://localhost:8080/"
        },
        "id": "FYT2sGS_NZqn",
        "outputId": "bb12533e-3be7-48b9-c49d-0cced19c6fd2"
      },
      "execution_count": null,
      "outputs": [
        {
          "output_type": "stream",
          "name": "stdout",
          "text": [
            "{'a': 1, 'b': 2, 'c': 3}\n"
          ]
        }
      ]
    },
    {
      "cell_type": "markdown",
      "source": [
        "Сортировка по значениям: Напишите функцию, которая сортирует словарь по значениям и возвращает новый отсортированный словарь."
      ],
      "metadata": {
        "id": "MXyoZS_7OFIV"
      }
    },
    {
      "cell_type": "code",
      "source": [
        "def sort_dict_by_values(input_dict):\n",
        "    sorted_dict = dict(sorted(input_dict.items(), key=lambda item: item[1]))\n",
        "    return sorted_dict\n",
        "\n",
        "example_dict = {'a': 3, 'b': 1, 'c': 2}\n",
        "sorted_example = sort_dict_by_values(example_dict)\n",
        "print(sorted_example)"
      ],
      "metadata": {
        "colab": {
          "base_uri": "https://localhost:8080/"
        },
        "id": "SIBoBMBMOGWg",
        "outputId": "21c49802-ba29-40d5-a80b-c8fb0c6f58aa"
      },
      "execution_count": null,
      "outputs": [
        {
          "output_type": "stream",
          "name": "stdout",
          "text": [
            "{'b': 1, 'c': 2, 'a': 3}\n"
          ]
        }
      ]
    },
    {
      "cell_type": "markdown",
      "source": [
        "Сумма значений: Напишите функцию, которая вычисляет сумму всех значений в словаре."
      ],
      "metadata": {
        "id": "WeEVUDB8OInP"
      }
    },
    {
      "cell_type": "code",
      "source": [
        "def sum_dict_values(input_dict):\n",
        "    total_sum = sum(input_dict.values())\n",
        "    return total_sum\n",
        "\n",
        "example_dict = {'a': 3, 'b': 1, 'c': 2}\n",
        "total = sum_dict_values(example_dict)\n",
        "print(total)"
      ],
      "metadata": {
        "colab": {
          "base_uri": "https://localhost:8080/"
        },
        "id": "G7hUI_EjOJRY",
        "outputId": "59bfe600-8ace-4eac-cf4c-dcf76b5471e2"
      },
      "execution_count": null,
      "outputs": [
        {
          "output_type": "stream",
          "name": "stdout",
          "text": [
            "6\n"
          ]
        }
      ]
    },
    {
      "cell_type": "markdown",
      "source": [
        "Произведение значений: Напишите функцию, которая вычисляет произведение всех значений в словаре."
      ],
      "metadata": {
        "id": "nzUpHh7fOL3q"
      }
    },
    {
      "cell_type": "code",
      "source": [
        "def product_dict_values(input_dict):\n",
        "    product = 1\n",
        "    for value in input_dict.values():\n",
        "        product *= value\n",
        "    return product\n",
        "\n",
        "example_dict = {'a': 3, 'b': 1, 'c': 2}\n",
        "total_product = product_dict_values(example_dict)\n",
        "print(total_product)"
      ],
      "metadata": {
        "colab": {
          "base_uri": "https://localhost:8080/"
        },
        "id": "3SCD65jXOMlY",
        "outputId": "63867119-a27f-45a7-f45e-0636becb8310"
      },
      "execution_count": null,
      "outputs": [
        {
          "output_type": "stream",
          "name": "stdout",
          "text": [
            "6\n"
          ]
        }
      ]
    },
    {
      "cell_type": "markdown",
      "source": [
        "Ключи с нечетными значениями: Напишите функцию, которая возвращает список ключей, связанных с нечетными значениями."
      ],
      "metadata": {
        "id": "cx-Wz0kOOOot"
      }
    },
    {
      "cell_type": "code",
      "source": [
        "def odd_value_keys(input_dict):\n",
        "    odd_keys = [key for key, value in input_dict.items() if value % 2 != 0]\n",
        "    return odd_keys\n",
        "\n",
        "example_dict = {'a': 3, 'b': 2, 'c': 5, 'd': 4}\n",
        "odd_keys_list = odd_value_keys(example_dict)\n",
        "print(odd_keys_list)"
      ],
      "metadata": {
        "colab": {
          "base_uri": "https://localhost:8080/"
        },
        "id": "mgssA_4EOTLl",
        "outputId": "bab12f15-85c0-42c7-98a2-526a2522bd52"
      },
      "execution_count": null,
      "outputs": [
        {
          "output_type": "stream",
          "name": "stdout",
          "text": [
            "['a', 'c']\n"
          ]
        }
      ]
    },
    {
      "cell_type": "markdown",
      "source": [
        "МНОЖЕСТВА"
      ],
      "metadata": {
        "id": "OLb48DRsP72y"
      }
    },
    {
      "cell_type": "markdown",
      "source": [
        "Пересечение множеств: Напишите функцию, которая принимает два множества и возвращает их пересечение."
      ],
      "metadata": {
        "id": "0jgnDKErQAMr"
      }
    },
    {
      "cell_type": "code",
      "source": [
        "def intersection(set1, set2):\n",
        "    return set1 & set2\n",
        "\n",
        "set_a = {1, 2, 3, 4, 5}\n",
        "set_b = {4, 5, 6, 7, 8}\n",
        "result = intersection(set_a, set_b)\n",
        "print(result)"
      ],
      "metadata": {
        "colab": {
          "base_uri": "https://localhost:8080/"
        },
        "id": "VyPQ0am5QMnt",
        "outputId": "bf237bcb-91b5-4238-820a-ad1c135aa7c4"
      },
      "execution_count": null,
      "outputs": [
        {
          "output_type": "stream",
          "name": "stdout",
          "text": [
            "{4, 5}\n"
          ]
        }
      ]
    },
    {
      "cell_type": "markdown",
      "source": [
        "Объединение множеств: Напишите функцию, которая принимает два множества и возвращает их объединение."
      ],
      "metadata": {
        "id": "VGVxWUxcQWev"
      }
    },
    {
      "cell_type": "code",
      "source": [
        "def union(set1, set2):\n",
        "    return set1 | set2\n",
        "\n",
        "set_a = {1, 2, 3, 4, 5}\n",
        "set_b = {4, 5, 6, 7, 8}\n",
        "result = union(set_a, set_b)\n",
        "print(result)"
      ],
      "metadata": {
        "colab": {
          "base_uri": "https://localhost:8080/"
        },
        "id": "7OVszh1GQXXv",
        "outputId": "a3728d1b-203d-4eb6-ecb7-87e9837c41b5"
      },
      "execution_count": null,
      "outputs": [
        {
          "output_type": "stream",
          "name": "stdout",
          "text": [
            "{1, 2, 3, 4, 5, 6, 7, 8}\n"
          ]
        }
      ]
    },
    {
      "cell_type": "markdown",
      "source": [
        "Разность множеств: Напишите функцию, которая принимает два множества и возвращает разность первого множества и второго."
      ],
      "metadata": {
        "id": "2ymB_GBcQfmB"
      }
    },
    {
      "cell_type": "code",
      "source": [
        "def difference(set1, set2):\n",
        "    return set1 - set2\n",
        "\n",
        "set_a = {1, 2, 3, 4, 5}\n",
        "set_b = {4, 5, 6, 7, 8}\n",
        "result = difference(set_a, set_b)\n",
        "print(result)"
      ],
      "metadata": {
        "colab": {
          "base_uri": "https://localhost:8080/"
        },
        "id": "LRTpmsOfQg3R",
        "outputId": "d46b1883-974f-444e-fba8-dcc48732b0b7"
      },
      "execution_count": null,
      "outputs": [
        {
          "output_type": "stream",
          "name": "stdout",
          "text": [
            "{1, 2, 3}\n"
          ]
        }
      ]
    },
    {
      "cell_type": "markdown",
      "source": [
        "Симметрическая разность: Напишите функцию, которая принимает два множества и возвращает их симметрическую разность"
      ],
      "metadata": {
        "id": "Gv7Wq_0SRMjo"
      }
    },
    {
      "cell_type": "code",
      "source": [
        "def symmetric_difference(set1, set2):\n",
        "    return set1.symmetric_difference(set2)\n",
        "\n",
        "set_a = {1, 2, 3}\n",
        "set_b = {3, 4, 5}\n",
        "\n",
        "result = symmetric_difference(set_a, set_b)\n",
        "print(result)"
      ],
      "metadata": {
        "colab": {
          "base_uri": "https://localhost:8080/"
        },
        "id": "oIFSkkz2RNFP",
        "outputId": "21be0989-4fe0-46ea-c4ca-c2e8e83cab99"
      },
      "execution_count": null,
      "outputs": [
        {
          "output_type": "stream",
          "name": "stdout",
          "text": [
            "{1, 2, 4, 5}\n"
          ]
        }
      ]
    },
    {
      "cell_type": "markdown",
      "source": [
        "Проверка подмножества: Напишите функцию, которая проверяет, является ли одно множество подмножеством другого."
      ],
      "metadata": {
        "id": "RHutG0zxRU-M"
      }
    },
    {
      "cell_type": "code",
      "source": [
        "def is_subset(set1, set2):\n",
        "    return set1.issubset(set2)\n",
        "\n",
        "\n",
        "set_a = {1, 2, 3}\n",
        "set_b = {1, 2, 3, 4, 5}\n",
        "\n",
        "result = is_subset(set_a, set_b)\n",
        "print(result)\n",
        "\n",
        "set_c = {1, 6}\n",
        "result = is_subset(set_c, set_b)\n",
        "print(result)"
      ],
      "metadata": {
        "colab": {
          "base_uri": "https://localhost:8080/"
        },
        "id": "rH53my-ZRX-D",
        "outputId": "af18ff95-0b1e-4cd0-d99e-d4fc5d25afdb"
      },
      "execution_count": null,
      "outputs": [
        {
          "output_type": "stream",
          "name": "stdout",
          "text": [
            "True\n",
            "False\n"
          ]
        }
      ]
    },
    {
      "cell_type": "markdown",
      "source": [
        "Удаление элементов: Напишите функцию, которая удаляет из множества все элементы, присутствующие в списке."
      ],
      "metadata": {
        "id": "X6am7j6NRiTz"
      }
    },
    {
      "cell_type": "code",
      "source": [
        "def remove_elements_from_set(s, elements_to_remove):\n",
        "    elements_to_remove_set = set(elements_to_remove)\n",
        "    s.difference_update(elements_to_remove_set)\n",
        "\n",
        "my_set = {1, 2, 3, 4, 5}\n",
        "elements_to_remove = [2, 4]\n",
        "\n",
        "remove_elements_from_set(my_set, elements_to_remove)\n",
        "print(my_set)"
      ],
      "metadata": {
        "colab": {
          "base_uri": "https://localhost:8080/"
        },
        "id": "FcZHRqLZRi8s",
        "outputId": "236f8b5d-d580-4f74-cb1f-8190d38eb406"
      },
      "execution_count": null,
      "outputs": [
        {
          "output_type": "stream",
          "name": "stdout",
          "text": [
            "{1, 3, 5}\n"
          ]
        }
      ]
    },
    {
      "cell_type": "markdown",
      "source": [
        "Элементы, встречающиеся только в одном множестве: Напишите функцию, которая находит элементы, которые есть только в одном из двух множеств."
      ],
      "metadata": {
        "id": "wAg3NrrdRzs1"
      }
    },
    {
      "cell_type": "code",
      "source": [
        "def unique_elements(set1, set2):\n",
        "    return set1.symmetric_difference(set2)\n",
        "set_a = {1, 2, 3, 4}\n",
        "set_b = {3, 4, 5, 6}\n",
        "unique_in_sets = unique_elements(set_a, set_b)\n",
        "print(unique_in_sets)"
      ],
      "metadata": {
        "colab": {
          "base_uri": "https://localhost:8080/"
        },
        "id": "KDLR3PK2R0ns",
        "outputId": "58306d7e-5322-4b83-8656-612b9855dfba"
      },
      "execution_count": null,
      "outputs": [
        {
          "output_type": "stream",
          "name": "stdout",
          "text": [
            "{1, 2, 5, 6}\n"
          ]
        }
      ]
    },
    {
      "cell_type": "markdown",
      "source": [
        "Общие элементы: Напишите функцию, которая находит общие элементы двух списков с помощью множеств."
      ],
      "metadata": {
        "id": "l8knXitlSX7k"
      }
    },
    {
      "cell_type": "code",
      "source": [
        "def common_elements(list1, list2):\n",
        "    return list(set(list1) & set(list2))\n",
        "\n",
        "list_a = [1, 2, 3, 4, 5]\n",
        "list_b = [4, 5, 6, 7, 8]\n",
        "\n",
        "common_in_lists = common_elements(list_a, list_b)\n",
        "print(common_in_lists)"
      ],
      "metadata": {
        "colab": {
          "base_uri": "https://localhost:8080/"
        },
        "id": "97U7NTiaSYcr",
        "outputId": "cc983ca0-77bb-4f83-c5d0-b38062fba8d8"
      },
      "execution_count": null,
      "outputs": [
        {
          "output_type": "stream",
          "name": "stdout",
          "text": [
            "[4, 5]\n"
          ]
        }
      ]
    },
    {
      "cell_type": "markdown",
      "source": [
        "Уникальные элементы: Напишите функцию, которая находит элементы, которые есть только в одном из двух списков."
      ],
      "metadata": {
        "id": "EoCHSRLVSkHS"
      }
    },
    {
      "cell_type": "code",
      "source": [
        "def unique_elements(list1, list2):\n",
        "    set1 = set(list1)\n",
        "    set2 = set(list2)\n",
        "    unique = set1.symmetric_difference(set2)\n",
        "\n",
        "    return list(unique)\n",
        "\n",
        "\n",
        "list_a = [1, 2, 3, 4, 5]\n",
        "list_b = [4, 5, 6, 7, 8]\n",
        "\n",
        "unique_in_lists = unique_elements(list_a, list_b)\n",
        "print(unique_in_lists)"
      ],
      "metadata": {
        "colab": {
          "base_uri": "https://localhost:8080/"
        },
        "id": "xY_8NJ9fSrvj",
        "outputId": "9bd4519f-3282-4087-e04d-5ae8b0a3ab5f"
      },
      "execution_count": null,
      "outputs": [
        {
          "output_type": "stream",
          "name": "stdout",
          "text": [
            "[1, 2, 3, 6, 7, 8]\n"
          ]
        }
      ]
    },
    {
      "cell_type": "markdown",
      "source": [
        "Удаление случайного элемента: Напишите функцию, которая удаляет случайный элемент из множества."
      ],
      "metadata": {
        "id": "ntDpV3x5bZU_"
      }
    },
    {
      "cell_type": "code",
      "source": [
        "import random\n",
        "\n",
        "def remove_random_element(s):\n",
        "    if not s:\n",
        "        raise ValueError(\"Множество пустое, нельзя удалить элемент.\")\n",
        "    element_to_remove = random.choice(tuple(s))\n",
        "    s.remove(element_to_remove)\n",
        "    return element_to_remove\n",
        "my_set = {1, 2, 3, 4, 5}\n",
        "removed_element = remove_random_element(my_set)\n",
        "\n",
        "print(f\"Удаленный элемент: {removed_element}\")\n",
        "print(f\"Оставшееся множество: {my_set}\")"
      ],
      "metadata": {
        "id": "uLuF8VLObdKc",
        "outputId": "2089db08-2349-431e-d9b8-72d75b63e9ba",
        "colab": {
          "base_uri": "https://localhost:8080/"
        }
      },
      "execution_count": null,
      "outputs": [
        {
          "output_type": "stream",
          "name": "stdout",
          "text": [
            "Удаленный элемент: 5\n",
            "Оставшееся множество: {1, 2, 3, 4}\n"
          ]
        }
      ]
    },
    {
      "cell_type": "markdown",
      "source": [
        "TUPLE"
      ],
      "metadata": {
        "id": "SmEbH1wXdBDm"
      }
    },
    {
      "cell_type": "markdown",
      "source": [
        "Создание кортежа из списка: Напишите функцию, которая принимает список и возвращает кортеж, содержащий те же элементы."
      ],
      "metadata": {
        "id": "iB-G15LwdHma"
      }
    },
    {
      "cell_type": "code",
      "source": [
        "def list_to_tuple(lst):\n",
        "    return tuple(lst)\n",
        "my_list = [1, 2, 3, 4, 5]\n",
        "result_tuple = list_to_tuple(my_list)\n",
        "\n",
        "print(f\"Исходный список: {my_list}\")\n",
        "print(f\"Преобразованный кортеж: {result_tuple}\")"
      ],
      "metadata": {
        "id": "uNAdsj27dO0b",
        "outputId": "be735ad8-579c-41d0-d556-331e047bc7ba",
        "colab": {
          "base_uri": "https://localhost:8080/"
        }
      },
      "execution_count": null,
      "outputs": [
        {
          "output_type": "stream",
          "name": "stdout",
          "text": [
            "Исходный список: [1, 2, 3, 4, 5]\n",
            "Преобразованный кортеж: (1, 2, 3, 4, 5)\n"
          ]
        }
      ]
    },
    {
      "cell_type": "markdown",
      "source": [
        "Объединение кортежей: Напишите функцию, которая принимает два кортежа и возвращает их объединение."
      ],
      "metadata": {
        "id": "vUorOZW2dyuv"
      }
    },
    {
      "cell_type": "code",
      "source": [
        "def concatenate_tuples(tuple1, tuple2):\n",
        "    return tuple1 + tuple2\n",
        "\n",
        "tuple_a = (1, 2, 3)\n",
        "tuple_b = (4, 5, 6, 7)\n",
        "result_tuple = concatenate_tuples(tuple_a, tuple_b)\n",
        "\n",
        "print(f\"Первый кортеж: {tuple_a}\")\n",
        "print(f\"Второй кортеж: {tuple_b}\")\n",
        "print(f\"Объединенный кортеж: {result_tuple}\")"
      ],
      "metadata": {
        "id": "KuviedYJd6PK",
        "outputId": "f8d372b8-7dd6-4928-f49a-d6cb5185a7fd",
        "colab": {
          "base_uri": "https://localhost:8080/"
        }
      },
      "execution_count": null,
      "outputs": [
        {
          "output_type": "stream",
          "name": "stdout",
          "text": [
            "Первый кортеж: (1, 2, 3)\n",
            "Второй кортеж: (4, 5, 6, 7)\n",
            "Объединенный кортеж: (1, 2, 3, 4, 5, 6, 7)\n"
          ]
        }
      ]
    },
    {
      "cell_type": "markdown",
      "source": [
        "Проверка на наличие элемента: Напишите функцию, которая проверяет, содержится ли заданный элемент в кортеже."
      ],
      "metadata": {
        "id": "ekryZQGHetUO"
      }
    },
    {
      "cell_type": "code",
      "source": [
        "def is_element_in_tuple(element, tuple_data):\n",
        "    return element in tuple_data\n",
        "\n",
        "my_tuple = (1, 2, 3, 4, 5)\n",
        "element_to_check = 3\n",
        "\n",
        "if is_element_in_tuple(element_to_check, my_tuple):\n",
        "    print(f\"Элемент {element_to_check} содержится в кортеже {my_tuple}.\")\n",
        "else:\n",
        "    print(f\"Элемент {element_to_check} не содержится в кортеже {my_tuple}.\")"
      ],
      "metadata": {
        "id": "8sKFG8_wewKm",
        "outputId": "0c9a2c0e-77db-44d7-9769-96d2376bf350",
        "colab": {
          "base_uri": "https://localhost:8080/"
        }
      },
      "execution_count": null,
      "outputs": [
        {
          "output_type": "stream",
          "name": "stdout",
          "text": [
            "Элемент 3 содержится в кортеже (1, 2, 3, 4, 5).\n"
          ]
        }
      ]
    },
    {
      "cell_type": "markdown",
      "source": [
        "Индекс первого вхождения: Напишите функцию, которая находит индекс первого вхождения заданного элемента в кортеже."
      ],
      "metadata": {
        "id": "ST14QcSifN0r"
      }
    },
    {
      "cell_type": "code",
      "source": [
        "def find_first_occurrence(element, tuple_data):\n",
        "    try:\n",
        "        index = tuple_data.index(element)\n",
        "        return index\n",
        "    except ValueError:\n",
        "        return -1\n",
        "\n",
        "my_tuple = (1, 2, 3, 4, 5, 3)\n",
        "element_to_find = 3\n",
        "\n",
        "index = find_first_occurrence(element_to_find, my_tuple)\n",
        "\n",
        "if index != -1:\n",
        "    print(f\"Элемент {element_to_find} впервые встречается в кортеже {my_tuple} на индексе {index}.\")\n",
        "else:\n",
        "    print(f\"Элемент {element_to_find} не найден в кортеже {my_tuple}.\")\n"
      ],
      "metadata": {
        "id": "ZYwJruijfUS3",
        "outputId": "842dcb83-a899-4879-ab9c-d9c77f00bf91",
        "colab": {
          "base_uri": "https://localhost:8080/"
        }
      },
      "execution_count": null,
      "outputs": [
        {
          "output_type": "stream",
          "name": "stdout",
          "text": [
            "Элемент 3 впервые встречается в кортеже (1, 2, 3, 4, 5, 3) на индексе 2.\n"
          ]
        }
      ]
    },
    {
      "cell_type": "markdown",
      "source": [
        "Количество вхождений элемента: Напишите функцию, которая подсчитывает, сколько раз заданный элемент встречается в кортеже."
      ],
      "metadata": {
        "id": "zH4SKfqufeaH"
      }
    },
    {
      "cell_type": "code",
      "source": [
        "def count_occurrences(element, tuple_data):\n",
        "    count = tuple_data.count(element)\n",
        "    return count\n",
        "\n",
        "# Пример использования\n",
        "my_tuple = (1, 2, 3, 4, 5, 3, 3)\n",
        "element_to_count = 3\n",
        "\n",
        "count = count_occurrences(element_to_count, my_tuple)\n",
        "\n",
        "print(f\"Элемент {element_to_count} встречается в кортеже {my_tuple} {count} раза.\")"
      ],
      "metadata": {
        "id": "MfhunXpbfgom",
        "outputId": "5aaa4494-4ea1-4c6d-f64d-1100ef72ce73",
        "colab": {
          "base_uri": "https://localhost:8080/"
        }
      },
      "execution_count": null,
      "outputs": [
        {
          "output_type": "stream",
          "name": "stdout",
          "text": [
            "Элемент 3 встречается в кортеже (1, 2, 3, 4, 5, 3, 3) 3 раза.\n"
          ]
        }
      ]
    },
    {
      "cell_type": "markdown",
      "source": [
        "Максимальный элемент: Напишите функцию, которая находит максимальный элемент в кортеже."
      ],
      "metadata": {
        "id": "5f9ydd8ufri_"
      }
    },
    {
      "cell_type": "code",
      "source": [
        "def find_maximum(tuple_data):\n",
        "    if not tuple_data:\n",
        "        return None\n",
        "    maximum = tuple_data[0]\n",
        "    for element in tuple_data:\n",
        "        if element > maximum:\n",
        "            maximum = element\n",
        "    return maximum\n",
        "\n",
        "my_tuple = (1, 5, 3, 9, 2)\n",
        "\n",
        "max_element = find_maximum(my_tuple)\n",
        "\n",
        "if max_element is not None:\n",
        "    print(f\"Максимальный элемент в кортеже {my_tuple} равен {max_element}.\")\n",
        "else:\n",
        "    print(\"Кортеж пуст.\")\n"
      ],
      "metadata": {
        "id": "3wNRiagYfvwJ",
        "outputId": "6fd8dddb-f358-44d2-dccf-4dd08d77d507",
        "colab": {
          "base_uri": "https://localhost:8080/"
        }
      },
      "execution_count": null,
      "outputs": [
        {
          "output_type": "stream",
          "name": "stdout",
          "text": [
            "Максимальный элемент в кортеже (1, 5, 3, 9, 2) равен 9.\n"
          ]
        }
      ]
    },
    {
      "cell_type": "markdown",
      "source": [
        "Минимальный элемент: Напишите функцию, которая находит минимальный элемент в кортеже."
      ],
      "metadata": {
        "id": "NPz0T8UQf6z7"
      }
    },
    {
      "cell_type": "code",
      "source": [
        "def find_minimum(tuple_data):\n",
        "    \"\"\"Находит минимальный элемент в кортеже.\"\"\"\n",
        "    if not tuple_data:\n",
        "        return None\n",
        "    minimum = tuple_data[0]\n",
        "    for element in tuple_data:\n",
        "        if element < minimum:\n",
        "            minimum = element\n",
        "    return minimum\n",
        "\n",
        "my_tuple = (7, 2, 5, 1, 9)\n",
        "\n",
        "min_element = find_minimum(my_tuple)\n",
        "\n",
        "if min_element is not None:\n",
        "    print(f\"Минимальный элемент в кортеже {my_tuple} равен {min_element}.\")\n",
        "else:\n",
        "    print(\"Кортеж пуст.\")\n"
      ],
      "metadata": {
        "id": "_fAtYyzXf-hm",
        "outputId": "35860edc-5335-4c37-a7e0-a0c276060663",
        "colab": {
          "base_uri": "https://localhost:8080/"
        }
      },
      "execution_count": null,
      "outputs": [
        {
          "output_type": "stream",
          "name": "stdout",
          "text": [
            "Минимальный элемент в кортеже (7, 2, 5, 1, 9) равен 1.\n"
          ]
        }
      ]
    },
    {
      "cell_type": "markdown",
      "source": [
        "Сортировка кортежа: Напишите функцию, которая возвращает отсортированный список на основе элементов кортежа.\n"
      ],
      "metadata": {
        "id": "z8Ku-AKngJQn"
      }
    },
    {
      "cell_type": "code",
      "source": [
        "def sort_tuple(tuple_data):\n",
        "    sorted_list = sorted(tuple_data)\n",
        "    return sorted_list\n",
        "\n",
        "my_tuple = (7, 2, 5, 1, 9)\n",
        "\n",
        "sorted_list = sort_tuple(my_tuple)\n",
        "\n",
        "print(f\"Отсортированный список на основе кортежа {my_tuple}: {sorted_list}.\")"
      ],
      "metadata": {
        "id": "fFCy01CmgNHf",
        "outputId": "a62a4885-8a87-4a92-b5cc-eb5841350585",
        "colab": {
          "base_uri": "https://localhost:8080/"
        }
      },
      "execution_count": null,
      "outputs": [
        {
          "output_type": "stream",
          "name": "stdout",
          "text": [
            "Отсортированный список на основе кортежа (7, 2, 5, 1, 9): [1, 2, 5, 7, 9].\n"
          ]
        }
      ]
    },
    {
      "cell_type": "markdown",
      "source": [
        "Разбиение кортежа: Напишите функцию, которая разбивает кортеж на две части: первую половину и вторую половину."
      ],
      "metadata": {
        "id": "34BscJBQgXwH"
      }
    },
    {
      "cell_type": "code",
      "source": [
        "def split_tuple(tuple_data):\n",
        "    mid_index = len(tuple_data) // 2\n",
        "    first_half = tuple_data[:mid_index]\n",
        "    second_half = tuple_data[mid_index:]\n",
        "    return first_half, second_half\n",
        "\n",
        "my_tuple = (1, 2, 3, 4, 5, 6)\n",
        "\n",
        "first_half, second_half = split_tuple(my_tuple)\n",
        "\n",
        "print(f\"Первая половина: {first_half}\")\n",
        "print(f\"Вторая половина: {second_half}\")"
      ],
      "metadata": {
        "id": "NFKaLuE4gbZr",
        "outputId": "4defb9e0-33d8-46d2-983e-9c940415c36c",
        "colab": {
          "base_uri": "https://localhost:8080/"
        }
      },
      "execution_count": null,
      "outputs": [
        {
          "output_type": "stream",
          "name": "stdout",
          "text": [
            "Первая половина: (1, 2, 3)\n",
            "Вторая половина: (4, 5, 6)\n"
          ]
        }
      ]
    },
    {
      "cell_type": "markdown",
      "source": [
        "Обратный порядок: Напишите функцию, которая возвращает кортеж с элементами в обратном порядке."
      ],
      "metadata": {
        "id": "CieSuIaBgnzv"
      }
    },
    {
      "cell_type": "code",
      "source": [
        "def reverse_tuple(tuple_data):\n",
        "    return tuple_data[::-1]\n",
        "\n",
        "my_tuple = (1, 2, 3, 4, 5)\n",
        "\n",
        "reversed_tuple = reverse_tuple(my_tuple)\n",
        "\n",
        "print(f\"Исходный кортеж: {my_tuple}\")\n",
        "print(f\"Обратный кортеж: {reversed_tuple}\")"
      ],
      "metadata": {
        "id": "B_OhTNLngqlD",
        "outputId": "6902f403-c64f-4f14-8c28-141d13c20e49",
        "colab": {
          "base_uri": "https://localhost:8080/"
        }
      },
      "execution_count": null,
      "outputs": [
        {
          "output_type": "stream",
          "name": "stdout",
          "text": [
            "Исходный кортеж: (1, 2, 3, 4, 5)\n",
            "Обратный кортеж: (5, 4, 3, 2, 1)\n"
          ]
        }
      ]
    }
  ]
}