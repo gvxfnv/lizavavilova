{
  "nbformat": 4,
  "nbformat_minor": 0,
  "metadata": {
    "colab": {
      "provenance": [],
      "authorship_tag": "ABX9TyNvMADgnLo0sbGRGWPjrtev",
      "include_colab_link": true
    },
    "kernelspec": {
      "name": "python3",
      "display_name": "Python 3"
    },
    "language_info": {
      "name": "python"
    }
  },
  "cells": [
    {
      "cell_type": "markdown",
      "metadata": {
        "id": "view-in-github",
        "colab_type": "text"
      },
      "source": [
        "<a href=\"https://colab.research.google.com/github/gvxfnv/lizavavilova/blob/main/%D1%80%D0%B0%D0%B1%D0%BE%D1%82%D0%B03.ipynb\" target=\"_parent\"><img src=\"https://colab.research.google.com/assets/colab-badge.svg\" alt=\"Open In Colab\"/></a>"
      ]
    },
    {
      "cell_type": "markdown",
      "source": [
        "DICTIONARY"
      ],
      "metadata": {
        "id": "Xi1-hV5qPr7A"
      }
    },
    {
      "cell_type": "markdown",
      "source": [
        "Максимальное значение: Напишите функцию, которая находит ключ с максимальным значением в словаре"
      ],
      "metadata": {
        "id": "fCbWD_qhLGFW"
      }
    },
    {
      "cell_type": "code",
      "source": [
        "def max_a (d):\n",
        "  if not d:\n",
        "    return None\n",
        "  max_key = max (d, key = d.get)\n",
        "  return max_key\n",
        "exemple_dict = {'a': 1, 'b': 3, 'c': 0}\n",
        "result = max_a(exemple_dict)\n",
        "print(f'ключ с максимальным значением: {result}')"
      ],
      "metadata": {
        "colab": {
          "base_uri": "https://localhost:8080/"
        },
        "id": "CtRWjaLlJyag",
        "outputId": "1c132ba7-cc84-4d8e-9e84-7d0500c7fb5d"
      },
      "execution_count": 8,
      "outputs": [
        {
          "output_type": "stream",
          "name": "stdout",
          "text": [
            "ключ с максимальным значением: a\n"
          ]
        }
      ]
    },
    {
      "cell_type": "markdown",
      "source": [
        "Минимальное значение: Напишите функцию, которая находит ключ с минимальным значением в словаре."
      ],
      "metadata": {
        "id": "9PlN1fIOLYH_"
      }
    },
    {
      "cell_type": "code",
      "source": [
        "def min_a(d):\n",
        "  if not d:\n",
        "    return None\n",
        "  min_key = min(d, key = d.get)\n",
        "  return min_key\n",
        "  example_dict = {'a': 1, 'b': 5, 'c': 3}\n",
        "  result = min_a(example_dict)\n",
        "  print(f'ключ с минимальным значением: {result}')\n"
      ],
      "metadata": {
        "id": "hV3O5pBvLwOC"
      },
      "execution_count": 9,
      "outputs": []
    },
    {
      "cell_type": "markdown",
      "source": [
        "Удаление ключей: Напишите функцию, которая принимает словарь и список ключей, и удаляет из словаря все указанные ключи."
      ],
      "metadata": {
        "id": "jHWnwgPiM6gG"
      }
    },
    {
      "cell_type": "code",
      "source": [
        "def remove_keys(d, keys):\n",
        "    for key in keys:\n",
        "        d.pop(key, None)\n",
        "    return d\n",
        "example_dict = {'a': 1, 'b': 2, 'c': 3, 'd': 4}\n",
        "keys_to_remove = ['b', 'd']\n",
        "\n",
        "result = remove_keys(example_dict, keys_to_remove)\n",
        "print(result)"
      ],
      "metadata": {
        "colab": {
          "base_uri": "https://localhost:8080/"
        },
        "id": "ZZ5FsXuqNPbN",
        "outputId": "b09f1b4f-61f9-4214-e42b-5f1b588ed574"
      },
      "execution_count": 20,
      "outputs": [
        {
          "output_type": "stream",
          "name": "stdout",
          "text": [
            "{'a': 1, 'c': 3}\n"
          ]
        }
      ]
    },
    {
      "cell_type": "markdown",
      "source": [
        "Поиск ключей по значению: Напишите функцию, которая принимает словарь и значение, и возвращает список всех ключей, связанных с этим значением."
      ],
      "metadata": {
        "id": "e9L2sUaRNMuf"
      }
    },
    {
      "cell_type": "code",
      "source": [
        "def find_keys_by_value(d, target_value):\n",
        "    keys = [key for key, value in d.items() if value == target_value]\n",
        "    return keys\n",
        "example_dict = {'a': 4, 'b': 2, 'c': 1, 'd': 4}\n",
        "value_to_find = 4\n",
        "\n",
        "result = find_keys_by_value(example_dict, value_to_find)\n",
        "print(result)"
      ],
      "metadata": {
        "colab": {
          "base_uri": "https://localhost:8080/"
        },
        "id": "tHaeI0uZNQbt",
        "outputId": "31ca2304-88d4-4889-bd1c-6e0998161303"
      },
      "execution_count": 19,
      "outputs": [
        {
          "output_type": "stream",
          "name": "stdout",
          "text": [
            "['a', 'd']\n"
          ]
        }
      ]
    },
    {
      "cell_type": "markdown",
      "source": [
        "Объединение значений: Напишите функцию, которая принимает два словаря и объединяет их значения в списки для каждого ключа."
      ],
      "metadata": {
        "id": "G3kJXbENNUu-"
      }
    },
    {
      "cell_type": "code",
      "source": [
        "def merge_dict_values(dict1, dict2):\n",
        "    \"\"\"Объединяет значения двух словарей в списки для каждого ключа.\"\"\"\n",
        "    merged_dict = {}\n",
        "    for key, value in dict1.items():\n",
        "        merged_dict[key] = [value]\n",
        "    for key, value in dict2.items():\n",
        "        if key in merged_dict:\n",
        "            merged_dict[key].append(value)\n",
        "        else:\n",
        "            merged_dict[key] = [value]\n",
        "\n",
        "    return merged_dict\n",
        "dict1 = {'a': 1, 'b': 2}\n",
        "dict2 = {'b': 3, 'c': 4}\n",
        "\n",
        "result = merge_dict_values(dict1, dict2)\n",
        "print(result)"
      ],
      "metadata": {
        "colab": {
          "base_uri": "https://localhost:8080/"
        },
        "id": "91_QS1yiNV3H",
        "outputId": "e2df01aa-8b6a-46ee-d706-78f91b104f36"
      },
      "execution_count": 16,
      "outputs": [
        {
          "output_type": "stream",
          "name": "stdout",
          "text": [
            "{'a': [1], 'b': [2, 3], 'c': [4]}\n"
          ]
        }
      ]
    },
    {
      "cell_type": "markdown",
      "source": [
        "Сортировка по ключам: Напишите функцию, которая сортирует словарь по ключам и возвращает новый отсортированный словарь"
      ],
      "metadata": {
        "id": "4HeRp0HBNYoL"
      }
    },
    {
      "cell_type": "code",
      "source": [
        "def sort_dict_by_keys(input_dict):\n",
        "    sorted_dict = dict(sorted(input_dict.items()))\n",
        "    return sorted_dict\n",
        "\n",
        "example_dict = {'c': 3, 'a': 1, 'b': 2}\n",
        "sorted_example = sort_dict_by_keys(example_dict)\n",
        "print(sorted_example)"
      ],
      "metadata": {
        "colab": {
          "base_uri": "https://localhost:8080/"
        },
        "id": "FYT2sGS_NZqn",
        "outputId": "bb12533e-3be7-48b9-c49d-0cced19c6fd2"
      },
      "execution_count": 15,
      "outputs": [
        {
          "output_type": "stream",
          "name": "stdout",
          "text": [
            "{'a': 1, 'b': 2, 'c': 3}\n"
          ]
        }
      ]
    },
    {
      "cell_type": "markdown",
      "source": [
        "Сортировка по значениям: Напишите функцию, которая сортирует словарь по значениям и возвращает новый отсортированный словарь."
      ],
      "metadata": {
        "id": "MXyoZS_7OFIV"
      }
    },
    {
      "cell_type": "code",
      "source": [
        "def sort_dict_by_values(input_dict):\n",
        "    sorted_dict = dict(sorted(input_dict.items(), key=lambda item: item[1]))\n",
        "    return sorted_dict\n",
        "\n",
        "example_dict = {'a': 3, 'b': 1, 'c': 2}\n",
        "sorted_example = sort_dict_by_values(example_dict)\n",
        "print(sorted_example)"
      ],
      "metadata": {
        "colab": {
          "base_uri": "https://localhost:8080/"
        },
        "id": "SIBoBMBMOGWg",
        "outputId": "21c49802-ba29-40d5-a80b-c8fb0c6f58aa"
      },
      "execution_count": 14,
      "outputs": [
        {
          "output_type": "stream",
          "name": "stdout",
          "text": [
            "{'b': 1, 'c': 2, 'a': 3}\n"
          ]
        }
      ]
    },
    {
      "cell_type": "markdown",
      "source": [
        "Сумма значений: Напишите функцию, которая вычисляет сумму всех значений в словаре."
      ],
      "metadata": {
        "id": "WeEVUDB8OInP"
      }
    },
    {
      "cell_type": "code",
      "source": [
        "def sum_dict_values(input_dict):\n",
        "    total_sum = sum(input_dict.values())\n",
        "    return total_sum\n",
        "\n",
        "example_dict = {'a': 3, 'b': 1, 'c': 2}\n",
        "total = sum_dict_values(example_dict)\n",
        "print(total)"
      ],
      "metadata": {
        "colab": {
          "base_uri": "https://localhost:8080/"
        },
        "id": "G7hUI_EjOJRY",
        "outputId": "59bfe600-8ace-4eac-cf4c-dcf76b5471e2"
      },
      "execution_count": 13,
      "outputs": [
        {
          "output_type": "stream",
          "name": "stdout",
          "text": [
            "6\n"
          ]
        }
      ]
    },
    {
      "cell_type": "markdown",
      "source": [
        "Произведение значений: Напишите функцию, которая вычисляет произведение всех значений в словаре."
      ],
      "metadata": {
        "id": "nzUpHh7fOL3q"
      }
    },
    {
      "cell_type": "code",
      "source": [
        "def product_dict_values(input_dict):\n",
        "    product = 1\n",
        "    for value in input_dict.values():\n",
        "        product *= value\n",
        "    return product\n",
        "\n",
        "example_dict = {'a': 3, 'b': 1, 'c': 2}\n",
        "total_product = product_dict_values(example_dict)\n",
        "print(total_product)"
      ],
      "metadata": {
        "colab": {
          "base_uri": "https://localhost:8080/"
        },
        "id": "3SCD65jXOMlY",
        "outputId": "63867119-a27f-45a7-f45e-0636becb8310"
      },
      "execution_count": 12,
      "outputs": [
        {
          "output_type": "stream",
          "name": "stdout",
          "text": [
            "6\n"
          ]
        }
      ]
    },
    {
      "cell_type": "markdown",
      "source": [
        "Ключи с нечетными значениями: Напишите функцию, которая возвращает список ключей, связанных с нечетными значениями."
      ],
      "metadata": {
        "id": "cx-Wz0kOOOot"
      }
    },
    {
      "cell_type": "code",
      "source": [
        "def odd_value_keys(input_dict):\n",
        "    odd_keys = [key for key, value in input_dict.items() if value % 2 != 0]\n",
        "    return odd_keys\n",
        "\n",
        "example_dict = {'a': 3, 'b': 2, 'c': 5, 'd': 4}\n",
        "odd_keys_list = odd_value_keys(example_dict)\n",
        "print(odd_keys_list)"
      ],
      "metadata": {
        "colab": {
          "base_uri": "https://localhost:8080/"
        },
        "id": "mgssA_4EOTLl",
        "outputId": "bab12f15-85c0-42c7-98a2-526a2522bd52"
      },
      "execution_count": 21,
      "outputs": [
        {
          "output_type": "stream",
          "name": "stdout",
          "text": [
            "['a', 'c']\n"
          ]
        }
      ]
    },
    {
      "cell_type": "markdown",
      "source": [
        "МНОЖЕСТВА"
      ],
      "metadata": {
        "id": "OLb48DRsP72y"
      }
    },
    {
      "cell_type": "markdown",
      "source": [
        "Пересечение множеств: Напишите функцию, которая принимает два множества и возвращает их пересечение."
      ],
      "metadata": {
        "id": "0jgnDKErQAMr"
      }
    },
    {
      "cell_type": "code",
      "source": [
        "def intersection(set1, set2):\n",
        "    return set1 & set2\n",
        "\n",
        "set_a = {1, 2, 3, 4, 5}\n",
        "set_b = {4, 5, 6, 7, 8}\n",
        "result = intersection(set_a, set_b)\n",
        "print(result)"
      ],
      "metadata": {
        "colab": {
          "base_uri": "https://localhost:8080/"
        },
        "id": "VyPQ0am5QMnt",
        "outputId": "bf237bcb-91b5-4238-820a-ad1c135aa7c4"
      },
      "execution_count": 22,
      "outputs": [
        {
          "output_type": "stream",
          "name": "stdout",
          "text": [
            "{4, 5}\n"
          ]
        }
      ]
    },
    {
      "cell_type": "markdown",
      "source": [
        "Объединение множеств: Напишите функцию, которая принимает два множества и возвращает их объединение."
      ],
      "metadata": {
        "id": "VGVxWUxcQWev"
      }
    },
    {
      "cell_type": "code",
      "source": [
        "def union(set1, set2):\n",
        "    return set1 | set2\n",
        "\n",
        "set_a = {1, 2, 3, 4, 5}\n",
        "set_b = {4, 5, 6, 7, 8}\n",
        "result = union(set_a, set_b)\n",
        "print(result)"
      ],
      "metadata": {
        "colab": {
          "base_uri": "https://localhost:8080/"
        },
        "id": "7OVszh1GQXXv",
        "outputId": "a3728d1b-203d-4eb6-ecb7-87e9837c41b5"
      },
      "execution_count": 23,
      "outputs": [
        {
          "output_type": "stream",
          "name": "stdout",
          "text": [
            "{1, 2, 3, 4, 5, 6, 7, 8}\n"
          ]
        }
      ]
    },
    {
      "cell_type": "markdown",
      "source": [
        "Разность множеств: Напишите функцию, которая принимает два множества и возвращает разность первого множества и второго."
      ],
      "metadata": {
        "id": "2ymB_GBcQfmB"
      }
    },
    {
      "cell_type": "code",
      "source": [
        "def difference(set1, set2):\n",
        "    return set1 - set2\n",
        "\n",
        "set_a = {1, 2, 3, 4, 5}\n",
        "set_b = {4, 5, 6, 7, 8}\n",
        "result = difference(set_a, set_b)\n",
        "print(result)"
      ],
      "metadata": {
        "colab": {
          "base_uri": "https://localhost:8080/"
        },
        "id": "LRTpmsOfQg3R",
        "outputId": "d46b1883-974f-444e-fba8-dcc48732b0b7"
      },
      "execution_count": 24,
      "outputs": [
        {
          "output_type": "stream",
          "name": "stdout",
          "text": [
            "{1, 2, 3}\n"
          ]
        }
      ]
    },
    {
      "cell_type": "markdown",
      "source": [
        "Симметрическая разность: Напишите функцию, которая принимает два множества и возвращает их симметрическую разность"
      ],
      "metadata": {
        "id": "Gv7Wq_0SRMjo"
      }
    },
    {
      "cell_type": "code",
      "source": [
        "def symmetric_difference(set1, set2):\n",
        "    return set1.symmetric_difference(set2)\n",
        "\n",
        "set_a = {1, 2, 3}\n",
        "set_b = {3, 4, 5}\n",
        "\n",
        "result = symmetric_difference(set_a, set_b)\n",
        "print(result)"
      ],
      "metadata": {
        "colab": {
          "base_uri": "https://localhost:8080/"
        },
        "id": "oIFSkkz2RNFP",
        "outputId": "21be0989-4fe0-46ea-c4ca-c2e8e83cab99"
      },
      "execution_count": 26,
      "outputs": [
        {
          "output_type": "stream",
          "name": "stdout",
          "text": [
            "{1, 2, 4, 5}\n"
          ]
        }
      ]
    },
    {
      "cell_type": "markdown",
      "source": [
        "Проверка подмножества: Напишите функцию, которая проверяет, является ли одно множество подмножеством другого."
      ],
      "metadata": {
        "id": "RHutG0zxRU-M"
      }
    },
    {
      "cell_type": "code",
      "source": [
        "def is_subset(set1, set2):\n",
        "    return set1.issubset(set2)\n",
        "\n",
        "\n",
        "set_a = {1, 2, 3}\n",
        "set_b = {1, 2, 3, 4, 5}\n",
        "\n",
        "result = is_subset(set_a, set_b)\n",
        "print(result)\n",
        "\n",
        "set_c = {1, 6}\n",
        "result = is_subset(set_c, set_b)\n",
        "print(result)"
      ],
      "metadata": {
        "colab": {
          "base_uri": "https://localhost:8080/"
        },
        "id": "rH53my-ZRX-D",
        "outputId": "af18ff95-0b1e-4cd0-d99e-d4fc5d25afdb"
      },
      "execution_count": 27,
      "outputs": [
        {
          "output_type": "stream",
          "name": "stdout",
          "text": [
            "True\n",
            "False\n"
          ]
        }
      ]
    },
    {
      "cell_type": "markdown",
      "source": [
        "Удаление элементов: Напишите функцию, которая удаляет из множества все элементы, присутствующие в списке."
      ],
      "metadata": {
        "id": "X6am7j6NRiTz"
      }
    },
    {
      "cell_type": "code",
      "source": [
        "def remove_elements_from_set(s, elements_to_remove):\n",
        "    elements_to_remove_set = set(elements_to_remove)\n",
        "    s.difference_update(elements_to_remove_set)\n",
        "\n",
        "my_set = {1, 2, 3, 4, 5}\n",
        "elements_to_remove = [2, 4]\n",
        "\n",
        "remove_elements_from_set(my_set, elements_to_remove)\n",
        "print(my_set)"
      ],
      "metadata": {
        "colab": {
          "base_uri": "https://localhost:8080/"
        },
        "id": "FcZHRqLZRi8s",
        "outputId": "236f8b5d-d580-4f74-cb1f-8190d38eb406"
      },
      "execution_count": 28,
      "outputs": [
        {
          "output_type": "stream",
          "name": "stdout",
          "text": [
            "{1, 3, 5}\n"
          ]
        }
      ]
    },
    {
      "cell_type": "markdown",
      "source": [
        "Элементы, встречающиеся только в одном множестве: Напишите функцию, которая находит элементы, которые есть только в одном из двух множеств."
      ],
      "metadata": {
        "id": "wAg3NrrdRzs1"
      }
    },
    {
      "cell_type": "code",
      "source": [
        "def unique_elements(set1, set2):\n",
        "    return set1.symmetric_difference(set2)\n",
        "set_a = {1, 2, 3, 4}\n",
        "set_b = {3, 4, 5, 6}\n",
        "unique_in_sets = unique_elements(set_a, set_b)\n",
        "print(unique_in_sets)"
      ],
      "metadata": {
        "colab": {
          "base_uri": "https://localhost:8080/"
        },
        "id": "KDLR3PK2R0ns",
        "outputId": "58306d7e-5322-4b83-8656-612b9855dfba"
      },
      "execution_count": 29,
      "outputs": [
        {
          "output_type": "stream",
          "name": "stdout",
          "text": [
            "{1, 2, 5, 6}\n"
          ]
        }
      ]
    },
    {
      "cell_type": "markdown",
      "source": [
        "Общие элементы: Напишите функцию, которая находит общие элементы двух списков с помощью множеств."
      ],
      "metadata": {
        "id": "l8knXitlSX7k"
      }
    },
    {
      "cell_type": "code",
      "source": [
        "def common_elements(list1, list2):\n",
        "    return list(set(list1) & set(list2))\n",
        "\n",
        "list_a = [1, 2, 3, 4, 5]\n",
        "list_b = [4, 5, 6, 7, 8]\n",
        "\n",
        "common_in_lists = common_elements(list_a, list_b)\n",
        "print(common_in_lists)"
      ],
      "metadata": {
        "colab": {
          "base_uri": "https://localhost:8080/"
        },
        "id": "97U7NTiaSYcr",
        "outputId": "cc983ca0-77bb-4f83-c5d0-b38062fba8d8"
      },
      "execution_count": 30,
      "outputs": [
        {
          "output_type": "stream",
          "name": "stdout",
          "text": [
            "[4, 5]\n"
          ]
        }
      ]
    },
    {
      "cell_type": "markdown",
      "source": [
        "Уникальные элементы: Напишите функцию, которая находит элементы, которые есть только в одном из двух списков."
      ],
      "metadata": {
        "id": "EoCHSRLVSkHS"
      }
    },
    {
      "cell_type": "code",
      "source": [
        "def unique_elements(list1, list2):\n",
        "    set1 = set(list1)\n",
        "    set2 = set(list2)\n",
        "    unique = set1.symmetric_difference(set2)\n",
        "\n",
        "    return list(unique)\n",
        "\n",
        "\n",
        "list_a = [1, 2, 3, 4, 5]\n",
        "list_b = [4, 5, 6, 7, 8]\n",
        "\n",
        "unique_in_lists = unique_elements(list_a, list_b)\n",
        "print(unique_in_lists)"
      ],
      "metadata": {
        "colab": {
          "base_uri": "https://localhost:8080/"
        },
        "id": "xY_8NJ9fSrvj",
        "outputId": "444b16fa-912c-435f-ea3d-ffb17619f6fa"
      },
      "execution_count": 31,
      "outputs": [
        {
          "output_type": "stream",
          "name": "stdout",
          "text": [
            "[1, 2, 3, 6, 7, 8]\n"
          ]
        }
      ]
    },
    {
      "cell_type": "markdown",
      "source": [
        "Удаление случайного элемента: Напишите функцию, которая удаляет случайный элемент из множества."
      ],
      "metadata": {
        "id": "ntDpV3x5bZU_"
      }
    },
    {
      "cell_type": "code",
      "source": [],
      "metadata": {
        "id": "uLuF8VLObdKc"
      },
      "execution_count": null,
      "outputs": []
    }
  ]
}